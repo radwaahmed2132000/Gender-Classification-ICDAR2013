{
 "cells": [
  {
   "cell_type": "code",
   "execution_count": 1,
   "metadata": {},
   "outputs": [],
   "source": [
    "# Imports\n",
    "import cv2\n",
    "import numpy as np\n",
    "import matplotlib.pyplot as plt\n",
    "import glob\n",
    "from sklearn.ensemble import RandomForestClassifier\n",
    "from skimage.feature import greycomatrix, greycoprops\n",
    "from sklearn import metrics\n",
    "from sklearn.model_selection import cross_val_score\n"
   ]
  },
  {
   "cell_type": "code",
   "execution_count": 2,
   "metadata": {},
   "outputs": [
    {
     "name": "stderr",
     "output_type": "stream",
     "text": [
      "100%|██████████| 272/272 [01:18<00:00,  3.46it/s]\n",
      "100%|██████████| 91/91 [00:24<00:00,  3.73it/s]\n"
     ]
    }
   ],
   "source": [
    "%run ../Combined_Features/COLD_HINGE_Compo.ipynb"
   ]
  },
  {
   "cell_type": "markdown",
   "metadata": {},
   "source": [
    "## Random Forest - Training"
   ]
  },
  {
   "cell_type": "code",
   "execution_count": null,
   "metadata": {},
   "outputs": [],
   "source": [
    "# Boost 100 weak decision trees\n",
    "model = RandomForestClassifier(n_estimators=100)\n",
    "#GradientBoostingClassifier(n_estimators=100, learning_rate=1.0, max_depth=1)\n",
    "\n",
    "model = model.fit(x_train, y_train)"
   ]
  },
  {
   "cell_type": "markdown",
   "metadata": {},
   "source": [
    "## Random Forest - Testing"
   ]
  },
  {
   "cell_type": "code",
   "execution_count": null,
   "metadata": {},
   "outputs": [
    {
     "name": "stdout",
     "output_type": "stream",
     "text": [
      " Model Accuracy is {73.62637362637363}\n"
     ]
    }
   ],
   "source": [
    "predictions = model.predict(x_test)\n",
    "acc = {metrics.accuracy_score(y_test, predictions) * 100}\n",
    "print(f\" Model Accuracy is {acc}\")"
   ]
  },
  {
   "cell_type": "markdown",
   "metadata": {},
   "source": [
    "## The Random Forest - ES Test "
   ]
  },
  {
   "cell_type": "code",
   "execution_count": null,
   "metadata": {},
   "outputs": [
    {
     "name": "stderr",
     "output_type": "stream",
     "text": [
      "100%|██████████| 500/500 [08:09<00:00,  1.02it/s]"
     ]
    },
    {
     "name": "stdout",
     "output_type": "stream",
     "text": [
      " Model Accuracy is 74.40219780219782\n"
     ]
    },
    {
     "name": "stderr",
     "output_type": "stream",
     "text": [
      "\n"
     ]
    }
   ],
   "source": [
    "accs=[]\n",
    "for i in tqdm(range(500)):\n",
    "\tmodel = RandomForestClassifier(n_estimators=300)\n",
    "\tmodel = model.fit(x_train, y_train)\n",
    "\tpredictions = model.predict(x_test)\n",
    "\taccs.append(metrics.accuracy_score(y_test, predictions) * 100)\n",
    "print(f\" Model Accuracy is {np.mean(accs)}\")\n"
   ]
  },
  {
   "cell_type": "markdown",
   "metadata": {},
   "source": [
    "## Cross Validation"
   ]
  },
  {
   "cell_type": "code",
   "execution_count": null,
   "metadata": {},
   "outputs": [],
   "source": [
    "x_data = np.concatenate((x_train, x_test))\n",
    "y_data = np.concatenate((y_train, y_test))\n",
    "\n",
    "accuracies = []\n",
    "\n",
    "for i in tqdm(range(1, 200)):\n",
    "   p = np.random.permutation(len(x_data))\n",
    "   x_data = x_data[p]\n",
    "   y_data = y_data[p]\n",
    "   model = RandomForestClassifier(n_estimators=300)\n",
    "   scores = cross_val_score(model, x_data, y_data, cv=5)\n",
    "   accuracies.append(scores.mean() * 100)\n",
    "\n",
    "accuracies = np.array(accuracies)\n",
    "print(f\" Model Accuracy by Cross Validation is {np.mean(accuracies)}%\")\n"
   ]
  }
 ],
 "metadata": {
  "interpreter": {
   "hash": "4f1daba52a977a9ca261d4e047034e1359a47d2ceb499fa4b8c2080bb02e3bd2"
  },
  "kernelspec": {
   "display_name": "Python 3.8.8 ('base')",
   "language": "python",
   "name": "python3"
  },
  "language_info": {
   "codemirror_mode": {
    "name": "ipython",
    "version": 3
   },
   "file_extension": ".py",
   "mimetype": "text/x-python",
   "name": "python",
   "nbconvert_exporter": "python",
   "pygments_lexer": "ipython3",
   "version": "3.8.8"
  },
  "orig_nbformat": 4
 },
 "nbformat": 4,
 "nbformat_minor": 2
}
