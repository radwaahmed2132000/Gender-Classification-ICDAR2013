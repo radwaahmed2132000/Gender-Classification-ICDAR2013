{
 "cells": [
  {
   "cell_type": "code",
   "execution_count": 4,
   "metadata": {},
   "outputs": [],
   "source": [
    "# Imports\n",
    "import cv2\n",
    "import numpy as np\n",
    "import matplotlib.pyplot as plt\n",
    "from sklearn.ensemble import RandomForestClassifier\n",
    "from sklearn import metrics\n",
    "from sklearn.model_selection import cross_val_score\n",
    "from sklearn.decomposition import PCA"
   ]
  },
  {
   "cell_type": "code",
   "execution_count": 3,
   "metadata": {},
   "outputs": [],
   "source": [
    "# %run ../Combined_Features/COLD_HINGE_Compo.ipynb"
   ]
  },
  {
   "cell_type": "code",
   "execution_count": 1,
   "metadata": {},
   "outputs": [
    {
     "name": "stderr",
     "output_type": "stream",
     "text": [
      "100%|██████████| 271/271 [00:49<00:00,  5.47it/s]\n",
      "100%|██████████| 91/91 [00:15<00:00,  5.83it/s]\n"
     ]
    }
   ],
   "source": [
    "%run ../Features/FindHINGEFeatures.ipynb\n"
   ]
  },
  {
   "cell_type": "markdown",
   "metadata": {},
   "source": [
    "## Random Forest - Training"
   ]
  },
  {
   "cell_type": "code",
   "execution_count": 5,
   "metadata": {},
   "outputs": [],
   "source": [
    "# Boost 100 weak decision trees\n",
    "model = RandomForestClassifier(n_estimators=100)\n",
    "#GradientBoostingClassifier(n_estimators=100, learning_rate=1.0, max_depth=1)\n",
    "\n",
    "model = model.fit(x_train, y_train)"
   ]
  },
  {
   "cell_type": "markdown",
   "metadata": {},
   "source": [
    "## Random Forest - Testing"
   ]
  },
  {
   "cell_type": "code",
   "execution_count": 6,
   "metadata": {},
   "outputs": [
    {
     "name": "stdout",
     "output_type": "stream",
     "text": [
      " Model Accuracy is {86.81318681318682}\n"
     ]
    }
   ],
   "source": [
    "predictions = model.predict(x_test)\n",
    "acc = {metrics.accuracy_score(y_test, predictions) * 100}\n",
    "print(f\" Model Accuracy is {acc}\")"
   ]
  },
  {
   "cell_type": "markdown",
   "metadata": {},
   "source": [
    "## Cross Validation"
   ]
  },
  {
   "cell_type": "code",
   "execution_count": 6,
   "metadata": {},
   "outputs": [
    {
     "name": "stdout",
     "output_type": "stream",
     "text": [
      "(362, 780)\n"
     ]
    },
    {
     "name": "stderr",
     "output_type": "stream",
     "text": [
      "100%|██████████| 4/4 [00:14<00:00,  3.61s/it]"
     ]
    },
    {
     "name": "stdout",
     "output_type": "stream",
     "text": [
      " Model Accuracy by Cross Validation is 81.8369482496195%\n"
     ]
    },
    {
     "name": "stderr",
     "output_type": "stream",
     "text": [
      "\n"
     ]
    }
   ],
   "source": [
    "x_data = np.concatenate((x_train, x_test))\n",
    "y_data = np.concatenate((y_train, y_test))\n",
    "\n",
    "print(x_data.shape)\n",
    "accuracies = []\n",
    "\n",
    "for i in tqdm(range(1, 5)):\n",
    "   p = np.random.permutation(len(x_data))\n",
    "   x_data = x_data[p]\n",
    "   y_data = y_data[p]\n",
    "   model = RandomForestClassifier(n_estimators=300)\n",
    "   scores = cross_val_score(model, x_data, y_data, cv=5)\n",
    "   accuracies.append(scores.mean() * 100)\n",
    "\n",
    "accuracies = np.array(accuracies)\n",
    "print(f\" Model Accuracy by Cross Validation is {np.mean(accuracies)}%\")\n"
   ]
  },
  {
   "cell_type": "markdown",
   "metadata": {},
   "source": [
    "Model With PCA"
   ]
  },
  {
   "cell_type": "code",
   "execution_count": 8,
   "metadata": {},
   "outputs": [
    {
     "name": "stdout",
     "output_type": "stream",
     "text": [
      " Model Accuracy is  86.81318681318682\n",
      " Model Accuracy is  84.61538461538461\n",
      " Model Accuracy is  90.10989010989012\n",
      " Model Accuracy is  86.81318681318682\n",
      " Model Accuracy is  89.01098901098901\n",
      " Model Accuracy is  86.81318681318682\n",
      " Model Accuracy is  86.81318681318682\n",
      " Model Accuracy is  84.61538461538461\n",
      " Model Accuracy is  84.61538461538461\n",
      " Model Accuracy is  86.81318681318682\n"
     ]
    }
   ],
   "source": [
    "accuracies = np.empty(10)\n",
    "nums = np.arange(10,110,10)\n",
    "for i in range(10,110,10):\n",
    "    pca = PCA(n_components=i)\n",
    "    train_data = pca.fit_transform(x_train)\n",
    "    test_data = pca.transform(x_test)\n",
    "    model = RandomForestClassifier(n_estimators=300)\n",
    "    model = model.fit(train_data, y_train)\n",
    "    predictions = model.predict(test_data)\n",
    "    acc = metrics.accuracy_score(y_test, predictions) * 100\n",
    "    accuracies [int(i/100-1)]= acc\n",
    "    print(f\" Model Accuracy is \",acc)\n",
    "\n"
   ]
  },
  {
   "cell_type": "markdown",
   "metadata": {},
   "source": [
    "Ploting PCA accuracies"
   ]
  },
  {
   "cell_type": "code",
   "execution_count": 9,
   "metadata": {},
   "outputs": [
    {
     "data": {
      "image/png": "[encoded data removed]",
      "text/plain": [
       "<Figure size 432x288 with 1 Axes>"
      ]
     },
     "metadata": {
      "needs_background": "light"
     },
     "output_type": "display_data"
    }
   ],
   "source": [
    "# plotting the points \n",
    "plt.plot(nums, accuracies)\n",
    "\n",
    "# naming the x axis\n",
    "plt.xlabel('n feature')\n",
    "# naming the y axis\n",
    "plt.ylabel('Accuracy')\n",
    "  \n",
    "# giving a title to my graph\n",
    "plt.title('My first graph!')\n",
    "  \n",
    "# function to show the plot\n",
    "plt.show()"
   ]
  }
 ],
 "metadata": {
  "interpreter": {
   "hash": "40d3a090f54c6569ab1632332b64b2c03c39dcf918b08424e98f38b5ae0af88f"
  },
  "kernelspec": {
   "display_name": "Python 3.8.8 ('base')",
   "language": "python",
   "name": "python3"
  },
  "language_info": {
   "codemirror_mode": {
    "name": "ipython",
    "version": 3
   },
   "file_extension": ".py",
   "mimetype": "text/x-python",
   "name": "python",
   "nbconvert_exporter": "python",
   "pygments_lexer": "ipython3",
   "version": "3.8.8"
  },
  "orig_nbformat": 4
 },
 "nbformat": 4,
 "nbformat_minor": 2
}
