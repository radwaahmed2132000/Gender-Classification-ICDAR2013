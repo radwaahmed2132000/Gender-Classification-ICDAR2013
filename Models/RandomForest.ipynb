{
 "cells": [
  {
   "cell_type": "code",
   "execution_count": 10,
   "metadata": {},
   "outputs": [],
   "source": [
    "# Imports\n",
    "import cv2\n",
    "import numpy as np\n",
    "import matplotlib.pyplot as plt\n",
    "import glob\n",
    "from sklearn.ensemble import RandomForestClassifier\n",
    "from skimage.feature import greycomatrix, greycoprops\n",
    "from sklearn import metrics\n",
    "from sklearn.model_selection import cross_val_score\n",
    "from sklearn.decomposition import PCA\n"
   ]
  },
  {
   "cell_type": "code",
   "execution_count": null,
   "metadata": {},
   "outputs": [],
   "source": [
    "# %run ../Combined_Features/COLD_HINGE_Compo.ipynb"
   ]
  },
  {
   "cell_type": "code",
   "execution_count": 18,
   "metadata": {},
   "outputs": [
    {
     "name": "stderr",
     "output_type": "stream",
     "text": [
      "100%|██████████| 232/232 [00:14<00:00, 15.93it/s]\n",
      "100%|██████████| 131/131 [00:08<00:00, 15.14it/s]\n",
      "0it [00:00, ?it/s]\n",
      "0it [00:00, ?it/s]\n",
      "C:\\Users\\Lenovo\\AppData\\Local\\Temp/ipykernel_2952/2446217812.py:50: VisibleDeprecationWarning: Creating an ndarray from ragged nested sequences (which is a list-or-tuple of lists-or-tuples-or ndarrays with different lengths or shapes) is deprecated. If you meant to do this, you must specify 'dtype=object' when creating the ndarray.\n",
      "  x_data_cmp,  y_data_cmp = np.array(x_data_cmp), np.array(y_data_cmp)\n",
      "100%|██████████| 272/272 [00:40<00:00,  6.66it/s]\n",
      "100%|██████████| 91/91 [00:13<00:00,  6.87it/s]\n",
      "  0%|          | 0/272 [00:00<?, ?it/s]\n"
     ]
    }
   ],
   "source": [
    "%run ../Features/FindHogFeatures.ipynb"
   ]
  },
  {
   "cell_type": "markdown",
   "metadata": {},
   "source": [
    "## Random Forest - Training"
   ]
  },
  {
   "cell_type": "code",
   "execution_count": 14,
   "metadata": {},
   "outputs": [],
   "source": [
    "# Boost 100 weak decision trees\n",
    "model = RandomForestClassifier(n_estimators=100)\n",
    "#GradientBoostingClassifier(n_estimators=100, learning_rate=1.0, max_depth=1)\n",
    "\n",
    "model = model.fit(x_train, y_train)"
   ]
  },
  {
   "cell_type": "markdown",
   "metadata": {},
   "source": [
    "## Random Forest - Testing"
   ]
  },
  {
   "cell_type": "code",
   "execution_count": 15,
   "metadata": {},
   "outputs": [
    {
     "name": "stdout",
     "output_type": "stream",
     "text": [
      " Model Accuracy is {71.42857142857143}\n"
     ]
    }
   ],
   "source": [
    "predictions = model.predict(x_test)\n",
    "acc = {metrics.accuracy_score(y_test, predictions) * 100}\n",
    "print(f\" Model Accuracy is {acc}\")"
   ]
  },
  {
   "cell_type": "markdown",
   "metadata": {},
   "source": [
    "## The Random Forest - ES Test "
   ]
  },
  {
   "cell_type": "code",
   "execution_count": null,
   "metadata": {},
   "outputs": [],
   "source": [
    "accs=[]\n",
    "for i in tqdm(range(500)):\n",
    "\tmodel = RandomForestClassifier(n_estimators=300)\n",
    "\tmodel = model.fit(x_train, y_train)\n",
    "\tpredictions = model.predict(x_test)\n",
    "\taccs.append(metrics.accuracy_score(y_test, predictions) * 100)\n",
    "print(f\" Model Accuracy is {np.mean(accs)}\")\n"
   ]
  },
  {
   "cell_type": "markdown",
   "metadata": {},
   "source": [
    "## Cross Validation"
   ]
  },
  {
   "cell_type": "code",
   "execution_count": null,
   "metadata": {},
   "outputs": [],
   "source": [
    "x_data = np.concatenate((x_train, x_test))\n",
    "y_data = np.concatenate((y_train, y_test))\n",
    "\n",
    "accuracies = []\n",
    "\n",
    "for i in tqdm(range(1, 200)):\n",
    "   p = np.random.permutation(len(x_data))\n",
    "   x_data = x_data[p]\n",
    "   y_data = y_data[p]\n",
    "   model = RandomForestClassifier(n_estimators=300)\n",
    "   scores = cross_val_score(model, x_data, y_data, cv=5)\n",
    "   accuracies.append(scores.mean() * 100)\n",
    "\n",
    "accuracies = np.array(accuracies)\n",
    "print(f\" Model Accuracy by Cross Validation is {np.mean(accuracies)}%\")\n"
   ]
  },
  {
   "cell_type": "markdown",
   "metadata": {},
   "source": [
    "Model With PCA"
   ]
  },
  {
   "cell_type": "code",
   "execution_count": 47,
   "metadata": {},
   "outputs": [
    {
     "name": "stdout",
     "output_type": "stream",
     "text": [
      " Model Accuracy is  63.73626373626373\n",
      " Model Accuracy is  65.93406593406593\n",
      " Model Accuracy is  69.23076923076923\n",
      " Model Accuracy is  69.23076923076923\n",
      " Model Accuracy is  69.23076923076923\n",
      " Model Accuracy is  67.03296703296702\n",
      " Model Accuracy is  67.03296703296702\n",
      " Model Accuracy is  69.23076923076923\n",
      " Model Accuracy is  67.03296703296702\n",
      " Model Accuracy is  71.42857142857143\n"
     ]
    }
   ],
   "source": [
    "accuracies = np.empty(10)\n",
    "nums = np.arange(10,110,10)\n",
    "for i in range(10,110,10):\n",
    "    pca = PCA(n_components=i)\n",
    "    train_data = pca.fit_transform(x_train)\n",
    "    test_data = pca.transform(x_test)\n",
    "    model = RandomForestClassifier(n_estimators=300)\n",
    "    model = model.fit(train_data, y_train)\n",
    "    predictions = model.predict(test_data)\n",
    "    acc = metrics.accuracy_score(y_test, predictions) * 100\n",
    "    accuracies [int(i/100-1)]= acc\n",
    "    print(f\" Model Accuracy is \",acc)\n",
    "\n"
   ]
  },
  {
   "cell_type": "markdown",
   "metadata": {},
   "source": [
    "Ploting PCA accuracies"
   ]
  },
  {
   "cell_type": "code",
   "execution_count": 48,
   "metadata": {},
   "outputs": [
    {
     "data": {
      "image/png": "[encoded data removed]",
      "text/plain": [
       "<Figure size 432x288 with 1 Axes>"
      ]
     },
     "metadata": {
      "needs_background": "light"
     },
     "output_type": "display_data"
    }
   ],
   "source": [
    "# plotting the points \n",
    "plt.plot(nums, accuracies)\n",
    "\n",
    "# naming the x axis\n",
    "plt.xlabel('n feature')\n",
    "# naming the y axis\n",
    "plt.ylabel('Accuracy')\n",
    "  \n",
    "# giving a title to my graph\n",
    "plt.title('My first graph!')\n",
    "  \n",
    "# function to show the plot\n",
    "plt.show()"
   ]
  }
 ],
 "metadata": {
  "interpreter": {
   "hash": "369f2c481f4da34e4445cda3fffd2e751bd1c4d706f27375911949ba6bb62e1c"
  },
  "kernelspec": {
   "display_name": "Python 3.10.0 64-bit",
   "language": "python",
   "name": "python3"
  },
  "language_info": {
   "codemirror_mode": {
    "name": "ipython",
    "version": 3
   },
   "file_extension": ".py",
   "mimetype": "text/x-python",
   "name": "python",
   "nbconvert_exporter": "python",
   "pygments_lexer": "ipython3",
   "version": "3.10.0"
  },
  "orig_nbformat": 4
 },
 "nbformat": 4,
 "nbformat_minor": 2
}
