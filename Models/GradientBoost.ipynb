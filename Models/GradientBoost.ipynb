{
 "cells": [
  {
   "cell_type": "code",
   "execution_count": 7,
   "metadata": {},
   "outputs": [],
   "source": [
    "# Imports\n",
    "import numpy as np\n",
    "import matplotlib.pyplot as plt\n",
    "from sklearn.ensemble import GradientBoostingClassifier\n",
    "from sklearn.model_selection import cross_val_score\n"
   ]
  },
  {
   "cell_type": "code",
   "execution_count": 5,
   "metadata": {},
   "outputs": [
    {
     "name": "stderr",
     "output_type": "stream",
     "text": [
      "100%|██████████| 271/271 [00:47<00:00,  5.72it/s]\n",
      "100%|██████████| 91/91 [00:17<00:00,  5.31it/s]\n"
     ]
    }
   ],
   "source": [
    "%run ../Features/FindHINGEFeatures.ipynb"
   ]
  },
  {
   "cell_type": "markdown",
   "metadata": {},
   "source": [
    "## Gradient Boosted Trees - CV Testing"
   ]
  },
  {
   "cell_type": "code",
   "execution_count": 10,
   "metadata": {},
   "outputs": [
    {
     "name": "stderr",
     "output_type": "stream",
     "text": [
      "100%|██████████| 1/1 [01:00<00:00, 60.82s/it]"
     ]
    },
    {
     "name": "stdout",
     "output_type": "stream",
     "text": [
      " Model Accuracy by Cross Validation is 80.38812785388127%\n"
     ]
    },
    {
     "name": "stderr",
     "output_type": "stream",
     "text": [
      "\n"
     ]
    }
   ],
   "source": [
    "x_data = np.concatenate((x_train, x_test))\n",
    "y_data = np.concatenate((y_train, y_test))\n",
    "\n",
    "accuracies = []\n",
    "\n",
    "for i in tqdm(range(1, 2)):\n",
    "   p = np.random.permutation(len(x_data))\n",
    "   x_data = x_data[p]\n",
    "   y_data = y_data[p]\n",
    "   model = GradientBoostingClassifier(n_estimators=300)\n",
    "   scores = cross_val_score(model, x_data, y_data, cv=5)\n",
    "   accuracies.append(scores.mean() * 100)\n",
    "\n",
    "accuracies = np.array(accuracies)\n",
    "print(f\" Model Accuracy by Cross Validation is {np.mean(accuracies)}%\")"
   ]
  }
 ],
 "metadata": {
  "interpreter": {
   "hash": "40d3a090f54c6569ab1632332b64b2c03c39dcf918b08424e98f38b5ae0af88f"
  },
  "kernelspec": {
   "display_name": "Python 3.8.8 ('base')",
   "language": "python",
   "name": "python3"
  },
  "language_info": {
   "codemirror_mode": {
    "name": "ipython",
    "version": 3
   },
   "file_extension": ".py",
   "mimetype": "text/x-python",
   "name": "python",
   "nbconvert_exporter": "python",
   "pygments_lexer": "ipython3",
   "version": "3.8.8"
  },
  "orig_nbformat": 4
 },
 "nbformat": 4,
 "nbformat_minor": 2
}
