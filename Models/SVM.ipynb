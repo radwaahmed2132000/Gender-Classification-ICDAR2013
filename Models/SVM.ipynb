{
 "cells": [
  {
   "cell_type": "code",
   "execution_count": 4,
   "metadata": {},
   "outputs": [],
   "source": [
    "# Imports\n",
    "from sklearn import svm\n",
    "from sklearn.model_selection import cross_val_score\n",
    "from sklearn import metrics"
   ]
  },
  {
   "cell_type": "code",
   "execution_count": 1,
   "metadata": {},
   "outputs": [
    {
     "name": "stderr",
     "output_type": "stream",
     "text": [
      "100%|██████████| 271/271 [00:49<00:00,  5.51it/s]\n",
      "100%|██████████| 91/91 [00:16<00:00,  5.65it/s]\n"
     ]
    }
   ],
   "source": [
    "%run ../Features/FindHINGEFeatures.ipynb\n",
    "HoG = False"
   ]
  },
  {
   "cell_type": "markdown",
   "metadata": {},
   "source": [
    "## SVM Classifier - Training"
   ]
  },
  {
   "cell_type": "code",
   "execution_count": 3,
   "metadata": {},
   "outputs": [],
   "source": [
    "# Initialize SVM classifier\n",
    "model = svm.SVC(kernel='poly') if not HoG else svm.LinearSVC()  # Let's case into an infinte dimensional space.\n",
    "model = model.fit(x_train, y_train)\n"
   ]
  },
  {
   "cell_type": "markdown",
   "metadata": {},
   "source": [
    "## SVM Classifier - Testing"
   ]
  },
  {
   "cell_type": "code",
   "execution_count": 4,
   "metadata": {},
   "outputs": [
    {
     "name": "stdout",
     "output_type": "stream",
     "text": [
      "86.81318681318682\n"
     ]
    }
   ],
   "source": [
    "predictions = model.predict(x_test)\n",
    "print(metrics.accuracy_score(y_test, predictions) * 100)"
   ]
  },
  {
   "cell_type": "markdown",
   "metadata": {},
   "source": [
    "## Cross Validation"
   ]
  },
  {
   "cell_type": "code",
   "execution_count": 9,
   "metadata": {},
   "outputs": [
    {
     "name": "stderr",
     "output_type": "stream",
     "text": [
      "100%|██████████| 199/199 [00:21<00:00,  9.12it/s]"
     ]
    },
    {
     "name": "stdout",
     "output_type": "stream",
     "text": [
      " Model Accuracy by Cross Validation is 90.81872452062444%\n"
     ]
    },
    {
     "name": "stderr",
     "output_type": "stream",
     "text": [
      "\n"
     ]
    }
   ],
   "source": [
    "x_data = np.concatenate((x_train, x_test))\n",
    "y_data = np.concatenate((y_train, y_test))\n",
    "\n",
    "accuracies = []\n",
    "\n",
    "for i in tqdm(range(1, 200)):\n",
    "   p = np.random.permutation(len(x_data))\n",
    "   x_data = x_data[p]\n",
    "   y_data = y_data[p]\n",
    "   model = svm.SVC(C=7.6) if not HoG else svm.LinearSVC()\n",
    "   scores = cross_val_score(model, x_data, y_data, cv=5)\n",
    "   accuracies.append(scores.mean() * 100)\n",
    "\n",
    "accuracies = np.array(accuracies)\n",
    "print(f\" Model Accuracy by Cross Validation is {np.mean(accuracies)}%\")"
   ]
  },
  {
   "cell_type": "markdown",
   "metadata": {},
   "source": [
    "### Male Accuracy Test"
   ]
  },
  {
   "cell_type": "code",
   "execution_count": 6,
   "metadata": {},
   "outputs": [
    {
     "ename": "NotFittedError",
     "evalue": "This SVC instance is not fitted yet. Call 'fit' with appropriate arguments before using this estimator.",
     "output_type": "error",
     "traceback": [
      "\u001b[0;31m---------------------------------------------------------------------------\u001b[0m",
      "\u001b[0;31mNotFittedError\u001b[0m                            Traceback (most recent call last)",
      "\u001b[1;32m/Users/essam/Documents/GitHub/Gender-Classification-ICDAR2013/Models/SVM.ipynb Cell 10'\u001b[0m in \u001b[0;36m<cell line: 6>\u001b[0;34m()\u001b[0m\n\u001b[1;32m      <a href='vscode-notebook-cell:/Users/essam/Documents/GitHub/Gender-Classification-ICDAR2013/Models/SVM.ipynb#ch0000009?line=2'>3</a>\u001b[0m y_m_test \u001b[39m=\u001b[39m y_test[y_test \u001b[39m==\u001b[39m \u001b[39m1\u001b[39m]\n\u001b[1;32m      <a href='vscode-notebook-cell:/Users/essam/Documents/GitHub/Gender-Classification-ICDAR2013/Models/SVM.ipynb#ch0000009?line=3'>4</a>\u001b[0m y_f_test \u001b[39m=\u001b[39m y_test[y_test \u001b[39m==\u001b[39m \u001b[39m0\u001b[39m]\n\u001b[0;32m----> <a href='vscode-notebook-cell:/Users/essam/Documents/GitHub/Gender-Classification-ICDAR2013/Models/SVM.ipynb#ch0000009?line=5'>6</a>\u001b[0m predictions \u001b[39m=\u001b[39m model\u001b[39m.\u001b[39;49mpredict(x_m_test)\n\u001b[1;32m      <a href='vscode-notebook-cell:/Users/essam/Documents/GitHub/Gender-Classification-ICDAR2013/Models/SVM.ipynb#ch0000009?line=6'>7</a>\u001b[0m \u001b[39mprint\u001b[39m(metrics\u001b[39m.\u001b[39maccuracy_score(y_m_test, predictions) \u001b[39m*\u001b[39m \u001b[39m100\u001b[39m)\n\u001b[1;32m      <a href='vscode-notebook-cell:/Users/essam/Documents/GitHub/Gender-Classification-ICDAR2013/Models/SVM.ipynb#ch0000009?line=7'>8</a>\u001b[0m \u001b[39mprint\u001b[39m()\n",
      "File \u001b[0;32m/opt/anaconda3/lib/python3.8/site-packages/sklearn/svm/_base.py:778\u001b[0m, in \u001b[0;36mBaseSVC.predict\u001b[0;34m(self, X)\u001b[0m\n\u001b[1;32m    <a href='file:///opt/anaconda3/lib/python3.8/site-packages/sklearn/svm/_base.py?line=760'>761</a>\u001b[0m \u001b[39mdef\u001b[39;00m \u001b[39mpredict\u001b[39m(\u001b[39mself\u001b[39m, X):\n\u001b[1;32m    <a href='file:///opt/anaconda3/lib/python3.8/site-packages/sklearn/svm/_base.py?line=761'>762</a>\u001b[0m     \u001b[39m\"\"\"Perform classification on samples in X.\u001b[39;00m\n\u001b[1;32m    <a href='file:///opt/anaconda3/lib/python3.8/site-packages/sklearn/svm/_base.py?line=762'>763</a>\u001b[0m \n\u001b[1;32m    <a href='file:///opt/anaconda3/lib/python3.8/site-packages/sklearn/svm/_base.py?line=763'>764</a>\u001b[0m \u001b[39m    For an one-class model, +1 or -1 is returned.\u001b[39;00m\n\u001b[0;32m   (...)\u001b[0m\n\u001b[1;32m    <a href='file:///opt/anaconda3/lib/python3.8/site-packages/sklearn/svm/_base.py?line=775'>776</a>\u001b[0m \u001b[39m        Class labels for samples in X.\u001b[39;00m\n\u001b[1;32m    <a href='file:///opt/anaconda3/lib/python3.8/site-packages/sklearn/svm/_base.py?line=776'>777</a>\u001b[0m \u001b[39m    \"\"\"\u001b[39;00m\n\u001b[0;32m--> <a href='file:///opt/anaconda3/lib/python3.8/site-packages/sklearn/svm/_base.py?line=777'>778</a>\u001b[0m     check_is_fitted(\u001b[39mself\u001b[39;49m)\n\u001b[1;32m    <a href='file:///opt/anaconda3/lib/python3.8/site-packages/sklearn/svm/_base.py?line=778'>779</a>\u001b[0m     \u001b[39mif\u001b[39;00m \u001b[39mself\u001b[39m\u001b[39m.\u001b[39mbreak_ties \u001b[39mand\u001b[39;00m \u001b[39mself\u001b[39m\u001b[39m.\u001b[39mdecision_function_shape \u001b[39m==\u001b[39m \u001b[39m\"\u001b[39m\u001b[39movo\u001b[39m\u001b[39m\"\u001b[39m:\n\u001b[1;32m    <a href='file:///opt/anaconda3/lib/python3.8/site-packages/sklearn/svm/_base.py?line=779'>780</a>\u001b[0m         \u001b[39mraise\u001b[39;00m \u001b[39mValueError\u001b[39;00m(\n\u001b[1;32m    <a href='file:///opt/anaconda3/lib/python3.8/site-packages/sklearn/svm/_base.py?line=780'>781</a>\u001b[0m             \u001b[39m\"\u001b[39m\u001b[39mbreak_ties must be False when decision_function_shape is \u001b[39m\u001b[39m'\u001b[39m\u001b[39movo\u001b[39m\u001b[39m'\u001b[39m\u001b[39m\"\u001b[39m\n\u001b[1;32m    <a href='file:///opt/anaconda3/lib/python3.8/site-packages/sklearn/svm/_base.py?line=781'>782</a>\u001b[0m         )\n",
      "File \u001b[0;32m/opt/anaconda3/lib/python3.8/site-packages/sklearn/utils/validation.py:1222\u001b[0m, in \u001b[0;36mcheck_is_fitted\u001b[0;34m(estimator, attributes, msg, all_or_any)\u001b[0m\n\u001b[1;32m   <a href='file:///opt/anaconda3/lib/python3.8/site-packages/sklearn/utils/validation.py?line=1216'>1217</a>\u001b[0m     fitted \u001b[39m=\u001b[39m [\n\u001b[1;32m   <a href='file:///opt/anaconda3/lib/python3.8/site-packages/sklearn/utils/validation.py?line=1217'>1218</a>\u001b[0m         v \u001b[39mfor\u001b[39;00m v \u001b[39min\u001b[39;00m \u001b[39mvars\u001b[39m(estimator) \u001b[39mif\u001b[39;00m v\u001b[39m.\u001b[39mendswith(\u001b[39m\"\u001b[39m\u001b[39m_\u001b[39m\u001b[39m\"\u001b[39m) \u001b[39mand\u001b[39;00m \u001b[39mnot\u001b[39;00m v\u001b[39m.\u001b[39mstartswith(\u001b[39m\"\u001b[39m\u001b[39m__\u001b[39m\u001b[39m\"\u001b[39m)\n\u001b[1;32m   <a href='file:///opt/anaconda3/lib/python3.8/site-packages/sklearn/utils/validation.py?line=1218'>1219</a>\u001b[0m     ]\n\u001b[1;32m   <a href='file:///opt/anaconda3/lib/python3.8/site-packages/sklearn/utils/validation.py?line=1220'>1221</a>\u001b[0m \u001b[39mif\u001b[39;00m \u001b[39mnot\u001b[39;00m fitted:\n\u001b[0;32m-> <a href='file:///opt/anaconda3/lib/python3.8/site-packages/sklearn/utils/validation.py?line=1221'>1222</a>\u001b[0m     \u001b[39mraise\u001b[39;00m NotFittedError(msg \u001b[39m%\u001b[39m {\u001b[39m\"\u001b[39m\u001b[39mname\u001b[39m\u001b[39m\"\u001b[39m: \u001b[39mtype\u001b[39m(estimator)\u001b[39m.\u001b[39m\u001b[39m__name__\u001b[39m})\n",
      "\u001b[0;31mNotFittedError\u001b[0m: This SVC instance is not fitted yet. Call 'fit' with appropriate arguments before using this estimator."
     ]
    }
   ],
   "source": [
    "x_m_test = x_test[y_test == 1]\n",
    "x_f_test = x_test[y_test == 0]\n",
    "y_m_test = y_test[y_test == 1]\n",
    "y_f_test = y_test[y_test == 0]\n",
    "\n",
    "predictions = model.predict(x_m_test)\n",
    "print(metrics.accuracy_score(y_m_test, predictions) * 100)\n",
    "print()\n",
    "predictions = model.predict(x_f_test)\n",
    "print(metrics.accuracy_score(y_f_test, predictions) * 100)\n"
   ]
  },
  {
   "cell_type": "markdown",
   "metadata": {},
   "source": [
    "### Female Accuracy Test"
   ]
  },
  {
   "cell_type": "code",
   "execution_count": null,
   "metadata": {},
   "outputs": [
    {
     "name": "stdout",
     "output_type": "stream",
     "text": [
      "100.0\n",
      "\n",
      "0.0\n"
     ]
    }
   ],
   "source": [
    "x_m_test = x_test[y_test == 0]\n",
    "x_f_test = x_test[y_test == 1]\n",
    "y_m_test = y_test[y_test == 0]\n",
    "y_f_test = y_test[y_test == 1]\n",
    "\n",
    "predictions = modelofHOG.predict(x_m_test)\n",
    "print(metrics.accuracy_score(y_m_test, predictions) * 100)\n",
    "print()\n",
    "predictions = modelofHOG.predict(x_f_test)\n",
    "print(metrics.accuracy_score(y_f_test, predictions) * 100)\n"
   ]
  }
 ],
 "metadata": {
  "interpreter": {
   "hash": "40d3a090f54c6569ab1632332b64b2c03c39dcf918b08424e98f38b5ae0af88f"
  },
  "kernelspec": {
   "display_name": "Python 3.8.8 ('base')",
   "language": "python",
   "name": "python3"
  },
  "language_info": {
   "codemirror_mode": {
    "name": "ipython",
    "version": 3
   },
   "file_extension": ".py",
   "mimetype": "text/x-python",
   "name": "python",
   "nbconvert_exporter": "python",
   "pygments_lexer": "ipython3",
   "version": "3.8.8"
  },
  "orig_nbformat": 4
 },
 "nbformat": 4,
 "nbformat_minor": 2
}
