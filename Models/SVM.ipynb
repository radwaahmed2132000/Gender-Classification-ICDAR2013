{
 "cells": [
  {
   "cell_type": "code",
   "execution_count": 1,
   "metadata": {},
   "outputs": [],
   "source": [
    "# Imports\n",
    "from sklearn import svm\n",
    "from skimage.feature import greycomatrix, greycoprops\n",
    "from sklearn import metrics\n",
    "#from importnb import Notebook\n",
    "#import import_ipynb\n",
    "#from Extract_Features import x_train, y_train\n",
    "#import Extract_Features"
   ]
  },
  {
   "cell_type": "code",
   "execution_count": 1,
   "metadata": {},
   "outputs": [
    {
     "name": "stderr",
     "output_type": "stream",
     "text": [
      "100%|██████████| 232/232 [01:41<00:00,  2.28it/s]\n",
      "100%|██████████| 131/131 [00:14<00:00,  8.94it/s]\n",
      "0it [00:00, ?it/s]\n",
      "0it [00:00, ?it/s]\n",
      "C:\\Users\\Lenovo\\AppData\\Local\\Temp/ipykernel_13108/2446217812.py:50: VisibleDeprecationWarning: Creating an ndarray from ragged nested sequences (which is a list-or-tuple of lists-or-tuples-or ndarrays with different lengths or shapes) is deprecated. If you meant to do this, you must specify 'dtype=object' when creating the ndarray.\n",
      "  x_data_cmp,  y_data_cmp = np.array(x_data_cmp), np.array(y_data_cmp)\n",
      "100%|██████████| 272/272 [01:21<00:00,  3.35it/s]\n",
      "100%|██████████| 91/91 [00:45<00:00,  1.99it/s]\n",
      "  0%|          | 0/272 [00:00<?, ?it/s]\n"
     ]
    }
   ],
   "source": [
    "%run ../Features/FindHogFeatures.ipynb"
   ]
  },
  {
   "cell_type": "markdown",
   "metadata": {},
   "source": [
    "## SVM Classifier - Training"
   ]
  },
  {
   "cell_type": "code",
   "execution_count": 2,
   "metadata": {},
   "outputs": [],
   "source": [
    "\n",
    "# Initialize SVM classifier\n",
    "model = svm.SVC(kernel='poly')                # Let's case into an infinte dimensional space.\n",
    "model = model.fit(x_train, y_train)\n"
   ]
  },
  {
   "cell_type": "code",
   "execution_count": 3,
   "metadata": {},
   "outputs": [],
   "source": [
    "# Initialize SVM classifier for HOG\n",
    "modelofHOG = svm.LinearSVC()                # Let's case into an infinte dimensional space.\n",
    "modelofHOG = modelofHOG.fit(x_train,y_train)\n"
   ]
  },
  {
   "cell_type": "markdown",
   "metadata": {},
   "source": [
    "## SVM Classifier - Testing"
   ]
  },
  {
   "cell_type": "code",
   "execution_count": 4,
   "metadata": {},
   "outputs": [
    {
     "name": "stdout",
     "output_type": "stream",
     "text": [
      "67.03296703296702\n"
     ]
    }
   ],
   "source": [
    "#HOG non linear SVM\n",
    "predictions = modelofHOG.predict(x_test)\n",
    "print(metrics.accuracy_score(y_test, predictions) * 100)"
   ]
  },
  {
   "cell_type": "code",
   "execution_count": 5,
   "metadata": {},
   "outputs": [
    {
     "name": "stdout",
     "output_type": "stream",
     "text": [
      "65.93406593406593\n"
     ]
    }
   ],
   "source": [
    "predictions = model.predict(x_test)\n",
    "print(metrics.accuracy_score(y_test, predictions) * 100)"
   ]
  },
  {
   "cell_type": "code",
   "execution_count": 6,
   "metadata": {},
   "outputs": [
    {
     "name": "stdout",
     "output_type": "stream",
     "text": [
      "25.71428571428571\n",
      "\n",
      "91.07142857142857\n"
     ]
    }
   ],
   "source": [
    "x_m_test = x_test[y_test == 1]\n",
    "x_f_test = x_test[y_test == 0]\n",
    "y_m_test = y_test[y_test == 1]\n",
    "y_f_test = y_test[y_test == 0]\n",
    "\n",
    "predictions = model.predict(x_m_test)\n",
    "print(metrics.accuracy_score(y_m_test, predictions) * 100)\n",
    "print()\n",
    "predictions = model.predict(x_f_test)\n",
    "print(metrics.accuracy_score(y_f_test, predictions) * 100)\n"
   ]
  },
  {
   "cell_type": "code",
   "execution_count": 7,
   "metadata": {},
   "outputs": [
    {
     "name": "stdout",
     "output_type": "stream",
     "text": [
      "34.285714285714285\n",
      "\n",
      "87.5\n"
     ]
    }
   ],
   "source": [
    "x_m_test = x_test[y_test == 0]\n",
    "x_f_test = x_test[y_test == 1]\n",
    "y_m_test = y_test[y_test == 0]\n",
    "y_f_test = y_test[y_test == 1]\n",
    "\n",
    "predictions = modelofHOG.predict(x_m_test)\n",
    "print(metrics.accuracy_score(y_m_test, predictions) * 100)\n",
    "print()\n",
    "predictions = modelofHOG.predict(x_f_test)\n",
    "print(metrics.accuracy_score(y_f_test, predictions) * 100)\n"
   ]
  }
 ],
 "metadata": {
  "interpreter": {
   "hash": "369f2c481f4da34e4445cda3fffd2e751bd1c4d706f27375911949ba6bb62e1c"
  },
  "kernelspec": {
   "display_name": "Python 3.10.0 64-bit",
   "language": "python",
   "name": "python3"
  },
  "language_info": {
   "codemirror_mode": {
    "name": "ipython",
    "version": 3
   },
   "file_extension": ".py",
   "mimetype": "text/x-python",
   "name": "python",
   "nbconvert_exporter": "python",
   "pygments_lexer": "ipython3",
   "version": "3.10.0"
  },
  "orig_nbformat": 4
 },
 "nbformat": 4,
 "nbformat_minor": 2
}
