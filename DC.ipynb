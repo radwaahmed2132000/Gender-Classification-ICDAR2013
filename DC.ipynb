{
 "cells": [
  {
   "cell_type": "code",
   "execution_count": 2,
   "metadata": {},
   "outputs": [],
   "source": [
    "# Imports\n",
    "import cv2\n",
    "import numpy as np\n",
    "import matplotlib.pyplot as plt"
   ]
  },
  {
   "cell_type": "code",
   "execution_count": 25,
   "metadata": {},
   "outputs": [
    {
     "ename": "TypeError",
     "evalue": "unsupported operand type(s) for *: 'function' and 'function'",
     "output_type": "error",
     "traceback": [
      "\u001b[0;31m---------------------------------------------------------------------------\u001b[0m",
      "\u001b[0;31mTypeError\u001b[0m                                 Traceback (most recent call last)",
      "\u001b[1;32m/home/radwa/NN_Project/Gender-Classification-ICDAR2013/DC.ipynb Cell 2'\u001b[0m in \u001b[0;36m<cell line: 4>\u001b[0;34m()\u001b[0m\n\u001b[1;32m      <a href='vscode-notebook-cell:/home/radwa/NN_Project/Gender-Classification-ICDAR2013/DC.ipynb#ch0000001?line=1'>2</a>\u001b[0m f \u001b[39m=\u001b[39m (\u001b[39mlambda\u001b[39;00m x : x \u001b[39m>\u001b[39m \u001b[39m10\u001b[39m \u001b[39mand\u001b[39;00m x \u001b[39m<\u001b[39m \u001b[39m20\u001b[39m)\n\u001b[1;32m      <a href='vscode-notebook-cell:/home/radwa/NN_Project/Gender-Classification-ICDAR2013/DC.ipynb#ch0000001?line=2'>3</a>\u001b[0m h1 \u001b[39m=\u001b[39m (\u001b[39mlambda\u001b[39;00m x : x \u001b[39m>\u001b[39m \u001b[39m10\u001b[39m \u001b[39mand\u001b[39;00m x \u001b[39m<\u001b[39m \u001b[39m20\u001b[39m)\n\u001b[0;32m----> <a href='vscode-notebook-cell:/home/radwa/NN_Project/Gender-Classification-ICDAR2013/DC.ipynb#ch0000001?line=3'>4</a>\u001b[0m matched  \u001b[39m=\u001b[39m np\u001b[39m.\u001b[39;49mconvolve( f , h1)\n",
      "File \u001b[0;32m<__array_function__ internals>:5\u001b[0m, in \u001b[0;36mconvolve\u001b[0;34m(*args, **kwargs)\u001b[0m\n",
      "File \u001b[0;32m/usr/lib/python3/dist-packages/numpy/core/numeric.py:817\u001b[0m, in \u001b[0;36mconvolve\u001b[0;34m(a, v, mode)\u001b[0m\n\u001b[1;32m    <a href='file:///usr/lib/python3/dist-packages/numpy/core/numeric.py?line=814'>815</a>\u001b[0m     \u001b[39mraise\u001b[39;00m \u001b[39mValueError\u001b[39;00m(\u001b[39m'\u001b[39m\u001b[39mv cannot be empty\u001b[39m\u001b[39m'\u001b[39m)\n\u001b[1;32m    <a href='file:///usr/lib/python3/dist-packages/numpy/core/numeric.py?line=815'>816</a>\u001b[0m mode \u001b[39m=\u001b[39m _mode_from_name(mode)\n\u001b[0;32m--> <a href='file:///usr/lib/python3/dist-packages/numpy/core/numeric.py?line=816'>817</a>\u001b[0m \u001b[39mreturn\u001b[39;00m multiarray\u001b[39m.\u001b[39;49mcorrelate(a, v[::\u001b[39m-\u001b[39;49m\u001b[39m1\u001b[39;49m], mode)\n",
      "\u001b[0;31mTypeError\u001b[0m: unsupported operand type(s) for *: 'function' and 'function'"
     ]
    }
   ],
   "source": [
    "t = list(range(0,1))\n",
    "f = (lambda x : x > 10 and x < 20)\n",
    "h1 = (lambda x : x > 10 and x < 20)\n",
    "matched  = cv2."
   ]
  },
  {
   "cell_type": "code",
   "execution_count": 4,
   "metadata": {},
   "outputs": [],
   "source": [
    "h2 = lambda t : "
   ]
  },
  {
   "cell_type": "code",
   "execution_count": 5,
   "metadata": {},
   "outputs": [
    {
     "ename": "TypeError",
     "evalue": "'>=' not supported between instances of 'range' and 'int'",
     "output_type": "error",
     "traceback": [
      "\u001b[0;31m---------------------------------------------------------------------------\u001b[0m",
      "\u001b[0;31mTypeError\u001b[0m                                 Traceback (most recent call last)",
      "\u001b[1;32m/home/radwa/NN_Project/Gender-Classification-ICDAR2013/DC.ipynb Cell 4'\u001b[0m in \u001b[0;36m<cell line: 2>\u001b[0;34m()\u001b[0m\n\u001b[1;32m      <a href='vscode-notebook-cell:/home/radwa/NN_Project/Gender-Classification-ICDAR2013/DC.ipynb#ch0000002?line=0'>1</a>\u001b[0m t \u001b[39m=\u001b[39m \u001b[39mrange\u001b[39m(\u001b[39m0\u001b[39m,\u001b[39m1\u001b[39m)\n\u001b[0;32m----> <a href='vscode-notebook-cell:/home/radwa/NN_Project/Gender-Classification-ICDAR2013/DC.ipynb#ch0000002?line=1'>2</a>\u001b[0m matched \u001b[39m=\u001b[39m np\u001b[39m.\u001b[39mconvolve(f(t),h1(t))\n",
      "\u001b[1;32m/home/radwa/NN_Project/Gender-Classification-ICDAR2013/DC.ipynb Cell 2'\u001b[0m in \u001b[0;36mf\u001b[0;34m(x)\u001b[0m\n\u001b[1;32m      <a href='vscode-notebook-cell:/home/radwa/NN_Project/Gender-Classification-ICDAR2013/DC.ipynb#ch0000001?line=0'>1</a>\u001b[0m \u001b[39mdef\u001b[39;00m \u001b[39mf\u001b[39m(x):\n\u001b[0;32m----> <a href='vscode-notebook-cell:/home/radwa/NN_Project/Gender-Classification-ICDAR2013/DC.ipynb#ch0000001?line=1'>2</a>\u001b[0m     \u001b[39mif\u001b[39;00m(x\u001b[39m>\u001b[39;49m\u001b[39m=\u001b[39;49m\u001b[39m0\u001b[39;49m \u001b[39mand\u001b[39;00m x \u001b[39m<\u001b[39m\u001b[39m=\u001b[39m\u001b[39m1\u001b[39m):\n\u001b[1;32m      <a href='vscode-notebook-cell:/home/radwa/NN_Project/Gender-Classification-ICDAR2013/DC.ipynb#ch0000001?line=2'>3</a>\u001b[0m         \u001b[39mreturn\u001b[39;00m x\n\u001b[1;32m      <a href='vscode-notebook-cell:/home/radwa/NN_Project/Gender-Classification-ICDAR2013/DC.ipynb#ch0000001?line=3'>4</a>\u001b[0m     \u001b[39melse\u001b[39;00m :\n",
      "\u001b[0;31mTypeError\u001b[0m: '>=' not supported between instances of 'range' and 'int'"
     ]
    }
   ],
   "source": [
    "t = range(0,1)\n",
    "matched = np.convolve(f(t),h1(t))\n"
   ]
  },
  {
   "cell_type": "code",
   "execution_count": null,
   "metadata": {},
   "outputs": [],
   "source": [
    "h =\n",
    "matched = np.convolve(x,h)"
   ]
  }
 ],
 "metadata": {
  "interpreter": {
   "hash": "916dbcbb3f70747c44a77c7bcd40155683ae19c65e1c03b4aa3499c5328201f1"
  },
  "kernelspec": {
   "display_name": "Python 3.9.7 64-bit",
   "language": "python",
   "name": "python3"
  },
  "language_info": {
   "codemirror_mode": {
    "name": "ipython",
    "version": 3
   },
   "file_extension": ".py",
   "mimetype": "text/x-python",
   "name": "python",
   "nbconvert_exporter": "python",
   "pygments_lexer": "ipython3",
   "version": "3.9.7"
  },
  "orig_nbformat": 4
 },
 "nbformat": 4,
 "nbformat_minor": 2
}
