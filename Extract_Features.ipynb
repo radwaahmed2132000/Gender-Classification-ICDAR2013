{
 "cells": [
  {
   "cell_type": "code",
   "execution_count": 1,
   "metadata": {},
   "outputs": [],
   "source": [
    "# Imports\n",
    "import cv2\n",
    "import numpy as np\n",
    "import matplotlib.pyplot as plt\n",
    "import glob\n",
    "from sklearn import svm\n",
    "from skimage.feature import greycomatrix, greycoprops\n",
    "from sklearn import metrics"
   ]
  },
  {
   "cell_type": "markdown",
   "metadata": {},
   "source": [
    "## Read Data"
   ]
  },
  {
   "cell_type": "code",
   "execution_count": 2,
   "metadata": {},
   "outputs": [],
   "source": [
    "\n",
    "x_data, y_data = [], []\n",
    "#load male images\n",
    "for filename in sorted(glob.glob('CMP23-Dataset/Male/*.jpg')):\n",
    "    try:\n",
    "        img = cv2.imread(filename, 0)                           # 0 for gray-scale\n",
    "        x_data.append(img)\n",
    "        y_data.append(0)\n",
    "    except:\n",
    "        print(\"corrupted image detected.\")\n",
    "    \n",
    "\n",
    "## load female images\n",
    "for filename in sorted(glob.glob('CMP23-Dataset/Female/*.jpg')):\n",
    "    try:\n",
    "        img = cv2.imread(filename, 0)\n",
    "        x_data.append(img)\n",
    "        y_data.append(1)\n",
    "    except:\n",
    "        print(\"corrupted image detected.\")\n",
    "    \n",
    "\n",
    "x_data = np.array(x_data)\n",
    "y_data = np.array(y_data)\n",
    "\n",
    "# Shuffle both\n",
    "p = np.random.permutation(len(x_data))\n",
    "x_data = x_data[p]\n",
    "y_data = y_data[p]\n",
    "\n",
    "train_size = int(0.8 * len(x_data))\n",
    "x_train, y_train = x_data[:train_size], y_data[:train_size]\n",
    "x_test, y_test = x_data[train_size:], y_data[train_size:]\n",
    "\n"
   ]
  },
  {
   "cell_type": "markdown",
   "metadata": {},
   "source": [
    "## Extract Features"
   ]
  },
  {
   "cell_type": "code",
   "execution_count": 3,
   "metadata": {},
   "outputs": [],
   "source": [
    "def get_glcm_feature(gray_scale_img, name):\n",
    "    GLCM = greycomatrix(gray_scale_img, distances = [1], angles = [0, np.pi/2, np.pi, np.pi * 1.5 ], levels=256, normed=True)\n",
    "    # P[i,j,d,theta] is the number of times that grey-level j occurs at a distance d and at an angle theta from grey-level i.\n",
    "    return np.sum(np.abs(greycoprops(GLCM, prop=name)))\n",
    "    "
   ]
  },
  {
   "cell_type": "code",
   "execution_count": 4,
   "metadata": {},
   "outputs": [],
   "source": [
    "# converting the dataset into features (x1, x2)\n",
    "x_train = np.array([(get_glcm_feature(img, 'energy'), (get_glcm_feature(img, 'homogeneity'))) for img in x_train])\n",
    "x_test = np.array([(get_glcm_feature(img, 'energy'), (get_glcm_feature(img, 'homogeneity'))) for img in x_test])"
   ]
  },
  {
   "cell_type": "code",
   "execution_count": 5,
   "metadata": {},
   "outputs": [
    {
     "data": {
      "image/png": "[encoded data removed]",
      "text/plain": [
       "<Figure size 432x288 with 1 Axes>"
      ]
     },
     "metadata": {
      "needs_background": "light"
     },
     "output_type": "display_data"
    }
   ],
   "source": [
    "# Generate scatter plot for training data \n",
    "x_train_male = x_train[y_train == 0]\n",
    "x_train_female = x_train[y_train == 1]\n",
    "plt.scatter(x_train_male[:,0], x_train_male[:,1], color='red')\n",
    "plt.scatter(x_train_female[:,0], x_train_female[:,1], color='blue')\n",
    "plt.title('Linearly separable data')\n",
    "plt.xlabel('feature 1')\n",
    "plt.ylabel('feature 2')\n",
    "plt.show()\n"
   ]
  }
 ],
 "metadata": {
  "interpreter": {
   "hash": "40d3a090f54c6569ab1632332b64b2c03c39dcf918b08424e98f38b5ae0af88f"
  },
  "kernelspec": {
   "display_name": "Python 3.8.8 ('base')",
   "language": "python",
   "name": "python3"
  },
  "language_info": {
   "codemirror_mode": {
    "name": "ipython",
    "version": 3
   },
   "file_extension": ".py",
   "mimetype": "text/x-python",
   "name": "python",
   "nbconvert_exporter": "python",
   "pygments_lexer": "ipython3",
   "version": "3.8.8"
  },
  "orig_nbformat": 4
 },
 "nbformat": 4,
 "nbformat_minor": 2
}
