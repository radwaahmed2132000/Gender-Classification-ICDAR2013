{
 "cells": [
  {
   "cell_type": "code",
   "execution_count": 14,
   "metadata": {},
   "outputs": [],
   "source": [
    "# Imports\n",
    "import cv2\n",
    "import numpy as np\n",
    "import matplotlib.pyplot as plt\n",
    "import glob\n",
    "from sklearn.ensemble import RandomForestClassifier, GradientBoostingClassifier,AdaBoostClassifier\n",
    "from sklearn import svm\n",
    "from skimage.feature import greycomatrix, greycoprops\n",
    "from sklearn import metrics\n",
    "from skimage.feature import hog\n",
    "from sklearn.decomposition import PCA"
   ]
  },
  {
   "cell_type": "markdown",
   "metadata": {},
   "source": [
    "## Read Data"
   ]
  },
  {
   "cell_type": "code",
   "execution_count": 2,
   "metadata": {},
   "outputs": [
    {
     "name": "stderr",
     "output_type": "stream",
     "text": [
      "/tmp/ipykernel_197791/1833915796.py:22: VisibleDeprecationWarning: Creating an ndarray from ragged nested sequences (which is a list-or-tuple of lists-or-tuples-or ndarrays with different lengths or shapes) is deprecated. If you meant to do this, you must specify 'dtype=object' when creating the ndarray\n",
      "  x_data = np.array(x_data)\n"
     ]
    }
   ],
   "source": [
    "\n",
    "x_data, y_data = [], []\n",
    "#load male images\n",
    "for filename in sorted(glob.glob('CMP23-Dataset/Male/*.jpg')):\n",
    "    try:\n",
    "        img = cv2.imread(filename, 0)                           # 0 for gray-scale\n",
    "        x_data.append(img)\n",
    "        y_data.append(0)\n",
    "    except:\n",
    "        print(\"corrupted image detected.\")\n",
    "    \n",
    "\n",
    "## load female images\n",
    "for filename in sorted(glob.glob('CMP23-Dataset/Female/*.jpg')):\n",
    "    try:\n",
    "        img = cv2.imread(filename, 0)\n",
    "        x_data.append(img)\n",
    "        y_data.append(1)\n",
    "    except:\n",
    "        print(\"corrupted image detected.\")\n",
    "    \n",
    "\n",
    "x_data = np.array(x_data)\n",
    "y_data = np.array(y_data)\n",
    "\n",
    "# Shuffle both\n",
    "p = np.random.permutation(len(x_data))\n",
    "x_data = x_data[p]\n",
    "y_data = y_data[p]\n",
    "\n",
    "train_size = int(0.8 * len(x_data))\n",
    "x_train, y_train = x_data[:train_size], y_data[:train_size]\n",
    "x_test, y_test = x_data[train_size:], y_data[train_size:]\n",
    "\n"
   ]
  },
  {
   "cell_type": "markdown",
   "metadata": {},
   "source": [
    "## Extract Features"
   ]
  },
  {
   "cell_type": "code",
   "execution_count": 3,
   "metadata": {},
   "outputs": [],
   "source": [
    "def get_hog_feature(imag):\n",
    "    imag = cv2.resize(imag,(600,600))\n",
    "    out = hog(imag, orientations=9, pixels_per_cell=(15, 15),\n",
    "                        block_norm='L2-Hys',\n",
    "                        cells_per_block=(1, 1), visualize=False, feature_vector=True)\n",
    "                 \n",
    "    return out.tolist()"
   ]
  },
  {
   "cell_type": "code",
   "execution_count": 4,
   "metadata": {},
   "outputs": [],
   "source": [
    "# def get_glcm_feature(gray_scale_img, name):\n",
    "#     GLCM = greycomatrix(gray_scale_img, distances = [1], angles = [0, np.pi/2, np.pi, np.pi * 1.5 ], levels=256, normed=True)\n",
    "#     # P[i,j,d,theta] is the number of times that grey-level j occurs at a distance d and at an angle theta from grey-level i.\n",
    "#     return np.sum(np.abs(greycoprops(GLCM, prop=name)))\n",
    "    "
   ]
  },
  {
   "cell_type": "code",
   "execution_count": 5,
   "metadata": {},
   "outputs": [],
   "source": [
    "# # converting the dataset into features (x1, x2)\n",
    "# x_train = np.array([(get_glcm_feature(img, 'energy'), (get_glcm_feature(img, 'homogeneity'))) for img in x_train])\n",
    "# x_test = np.array([(get_glcm_feature(img, 'energy'), (get_glcm_feature(img, 'homogeneity'))) for img in x_test])"
   ]
  },
  {
   "cell_type": "code",
   "execution_count": 4,
   "metadata": {},
   "outputs": [],
   "source": [
    "data_train =[]\n",
    "data_test =[]\n",
    "for img in x_train:\n",
    "   data_train .append(get_hog_feature(img))\n",
    "for img in x_test:   \n",
    "    data_test.append(get_hog_feature(img))"
   ]
  },
  {
   "cell_type": "code",
   "execution_count": 5,
   "metadata": {},
   "outputs": [
    {
     "name": "stdout",
     "output_type": "stream",
     "text": [
      "14400\n",
      "71.05263157894737\n"
     ]
    }
   ],
   "source": [
    "#print(data_train[0])\n",
    "print(len(data_train[0]))\n",
    "# Initialize SVM classifier\n",
    "modelofHOG = svm.LinearSVC()                # Let's case into an infinte dimensional space.\n",
    "modelofHOG = modelofHOG.fit(data_train,y_train)\n",
    "predictions = modelofHOG.predict(data_test)\n",
    "\n",
    "print(metrics.accuracy_score(y_test, predictions) * 100)\n"
   ]
  },
  {
   "cell_type": "code",
   "execution_count": 6,
   "metadata": {},
   "outputs": [
    {
     "name": "stdout",
     "output_type": "stream",
     "text": [
      "68.42105263157895\n"
     ]
    }
   ],
   "source": [
    "modelofHOG = svm.SVC(kernel='rbf')                 # Let's case into an infinte dimensional space.\n",
    "modelofHOG = modelofHOG.fit(data_train,y_train)\n",
    "predictions = modelofHOG.predict(data_test)\n",
    "\n",
    "print(metrics.accuracy_score(y_test, predictions) * 100)"
   ]
  },
  {
   "cell_type": "code",
   "execution_count": 9,
   "metadata": {},
   "outputs": [
    {
     "name": "stdout",
     "output_type": "stream",
     "text": [
      "68.42105263157895\n"
     ]
    }
   ],
   "source": [
    "# Boost 100 weak decision trees\n",
    "model = RandomForestClassifier(n_estimators=100)\n",
    "\n",
    "model = model.fit(data_train, y_train)\n",
    "predictions = model.predict(data_test)\n",
    "print(metrics.accuracy_score(y_test, predictions) * 100)"
   ]
  },
  {
   "cell_type": "code",
   "execution_count": 11,
   "metadata": {},
   "outputs": [
    {
     "name": "stdout",
     "output_type": "stream",
     "text": [
      "60.526315789473685\n"
     ]
    }
   ],
   "source": [
    "model = GradientBoostingClassifier(n_estimators=100, learning_rate=1.0, max_depth=1)\n",
    "model = model.fit(data_train, y_train)\n",
    "predictions = model.predict(data_test)\n",
    "print(metrics.accuracy_score(y_test, predictions) * 100)"
   ]
  },
  {
   "cell_type": "code",
   "execution_count": 13,
   "metadata": {},
   "outputs": [
    {
     "name": "stdout",
     "output_type": "stream",
     "text": [
      "63.1578947368421\n"
     ]
    }
   ],
   "source": [
    "model = AdaBoostClassifier(n_estimators=100, random_state=0)\n",
    "model = model.fit(data_train, y_train)\n",
    "predictions = model.predict(data_test)\n",
    "print(metrics.accuracy_score(y_test, predictions) * 100)"
   ]
  },
  {
   "cell_type": "code",
   "execution_count": 27,
   "metadata": {},
   "outputs": [],
   "source": [
    "pca = PCA(n_components=3)\n",
    "X_train = pca.fit_transform(data_train)\n",
    "X_test = pca.transform(data_test)"
   ]
  },
  {
   "cell_type": "code",
   "execution_count": 28,
   "metadata": {},
   "outputs": [
    {
     "name": "stdout",
     "output_type": "stream",
     "text": [
      "71.05263157894737\n"
     ]
    },
    {
     "name": "stderr",
     "output_type": "stream",
     "text": [
      "/usr/lib/python3/dist-packages/sklearn/svm/_base.py:976: ConvergenceWarning: Liblinear failed to converge, increase the number of iterations.\n",
      "  warnings.warn(\"Liblinear failed to converge, increase \"\n"
     ]
    }
   ],
   "source": [
    "# Initialize SVM classifier\n",
    "modelofHOG = svm.LinearSVC()                # Let's case into an infinte dimensional space.\n",
    "modelofHOG = modelofHOG.fit(X_train,y_train)\n",
    "predictions = modelofHOG.predict(X_test)\n",
    "\n",
    "print(metrics.accuracy_score(y_test, predictions) * 100)"
   ]
  },
  {
   "cell_type": "code",
   "execution_count": 29,
   "metadata": {},
   "outputs": [
    {
     "name": "stdout",
     "output_type": "stream",
     "text": [
      "68.42105263157895\n"
     ]
    }
   ],
   "source": [
    "modelofHOG = svm.SVC(kernel='rbf')                 # Let's case into an infinte dimensional space.\n",
    "modelofHOG = modelofHOG.fit(X_train,y_train)\n",
    "predictions = modelofHOG.predict(X_test)\n",
    "\n",
    "print(metrics.accuracy_score(y_test, predictions) * 100)"
   ]
  },
  {
   "cell_type": "code",
   "execution_count": 30,
   "metadata": {},
   "outputs": [
    {
     "name": "stdout",
     "output_type": "stream",
     "text": [
      "76.31578947368422\n"
     ]
    }
   ],
   "source": [
    "# Boost 100 weak decision trees\n",
    "model = RandomForestClassifier(n_estimators=100)\n",
    "\n",
    "model = model.fit(X_train, y_train)\n",
    "predictions = model.predict(X_test)\n",
    "print(metrics.accuracy_score(y_test, predictions) * 100)"
   ]
  },
  {
   "cell_type": "code",
   "execution_count": 31,
   "metadata": {},
   "outputs": [
    {
     "name": "stdout",
     "output_type": "stream",
     "text": [
      "76.31578947368422\n"
     ]
    }
   ],
   "source": [
    "model = GradientBoostingClassifier(n_estimators=100, learning_rate=1.0, max_depth=1)\n",
    "model = model.fit(X_train, y_train)\n",
    "predictions = model.predict(X_test)\n",
    "print(metrics.accuracy_score(y_test, predictions) * 100)"
   ]
  },
  {
   "cell_type": "code",
   "execution_count": 32,
   "metadata": {},
   "outputs": [
    {
     "name": "stdout",
     "output_type": "stream",
     "text": [
      "63.1578947368421\n"
     ]
    }
   ],
   "source": [
    "model = AdaBoostClassifier(n_estimators=100, random_state=0)\n",
    "model = model.fit(X_train, y_train)\n",
    "predictions = model.predict(X_test)\n",
    "print(metrics.accuracy_score(y_test, predictions) * 100)"
   ]
  },
  {
   "cell_type": "code",
   "execution_count": 68,
   "metadata": {},
   "outputs": [
    {
     "name": "stdout",
     "output_type": "stream",
     "text": [
      "86436\n"
     ]
    },
    {
     "ename": "KeyboardInterrupt",
     "evalue": "",
     "output_type": "error",
     "traceback": [
      "\u001b[0;31m---------------------------------------------------------------------------\u001b[0m",
      "\u001b[0;31mKeyboardInterrupt\u001b[0m                         Traceback (most recent call last)",
      "\u001b[1;32m/home/radwa/NN_Project/Gender-Classification-ICDAR2013/Extract_Features.ipynb Cell 10'\u001b[0m in \u001b[0;36m<cell line: 7>\u001b[0;34m()\u001b[0m\n\u001b[1;32m      <a href='vscode-notebook-cell:/home/radwa/NN_Project/Gender-Classification-ICDAR2013/Extract_Features.ipynb#ch0000009?line=4'>5</a>\u001b[0m x_train_female \u001b[39m=\u001b[39m data_train[y_train \u001b[39m==\u001b[39m \u001b[39m1\u001b[39m]\n\u001b[1;32m      <a href='vscode-notebook-cell:/home/radwa/NN_Project/Gender-Classification-ICDAR2013/Extract_Features.ipynb#ch0000009?line=5'>6</a>\u001b[0m plt\u001b[39m.\u001b[39mplot(x_train_female)\n\u001b[0;32m----> <a href='vscode-notebook-cell:/home/radwa/NN_Project/Gender-Classification-ICDAR2013/Extract_Features.ipynb#ch0000009?line=6'>7</a>\u001b[0m plt\u001b[39m.\u001b[39;49mplot(x_train_male)\n\u001b[1;32m      <a href='vscode-notebook-cell:/home/radwa/NN_Project/Gender-Classification-ICDAR2013/Extract_Features.ipynb#ch0000009?line=7'>8</a>\u001b[0m plt\u001b[39m.\u001b[39mtitle(\u001b[39m'\u001b[39m\u001b[39mLinearly separable data\u001b[39m\u001b[39m'\u001b[39m)\n\u001b[1;32m      <a href='vscode-notebook-cell:/home/radwa/NN_Project/Gender-Classification-ICDAR2013/Extract_Features.ipynb#ch0000009?line=8'>9</a>\u001b[0m plt\u001b[39m.\u001b[39mxlabel(\u001b[39m'\u001b[39m\u001b[39mfeature 1\u001b[39m\u001b[39m'\u001b[39m)\n",
      "File \u001b[0;32m/usr/lib/python3/dist-packages/matplotlib/pyplot.py:2840\u001b[0m, in \u001b[0;36mplot\u001b[0;34m(scalex, scaley, data, *args, **kwargs)\u001b[0m\n\u001b[1;32m   <a href='file:///usr/lib/python3/dist-packages/matplotlib/pyplot.py?line=2837'>2838</a>\u001b[0m \u001b[39m@_copy_docstring_and_deprecators\u001b[39m(Axes\u001b[39m.\u001b[39mplot)\n\u001b[1;32m   <a href='file:///usr/lib/python3/dist-packages/matplotlib/pyplot.py?line=2838'>2839</a>\u001b[0m \u001b[39mdef\u001b[39;00m \u001b[39mplot\u001b[39m(\u001b[39m*\u001b[39margs, scalex\u001b[39m=\u001b[39m\u001b[39mTrue\u001b[39;00m, scaley\u001b[39m=\u001b[39m\u001b[39mTrue\u001b[39;00m, data\u001b[39m=\u001b[39m\u001b[39mNone\u001b[39;00m, \u001b[39m*\u001b[39m\u001b[39m*\u001b[39mkwargs):\n\u001b[0;32m-> <a href='file:///usr/lib/python3/dist-packages/matplotlib/pyplot.py?line=2839'>2840</a>\u001b[0m     \u001b[39mreturn\u001b[39;00m gca()\u001b[39m.\u001b[39;49mplot(\n\u001b[1;32m   <a href='file:///usr/lib/python3/dist-packages/matplotlib/pyplot.py?line=2840'>2841</a>\u001b[0m         \u001b[39m*\u001b[39;49margs, scalex\u001b[39m=\u001b[39;49mscalex, scaley\u001b[39m=\u001b[39;49mscaley,\n\u001b[1;32m   <a href='file:///usr/lib/python3/dist-packages/matplotlib/pyplot.py?line=2841'>2842</a>\u001b[0m         \u001b[39m*\u001b[39;49m\u001b[39m*\u001b[39;49m({\u001b[39m\"\u001b[39;49m\u001b[39mdata\u001b[39;49m\u001b[39m\"\u001b[39;49m: data} \u001b[39mif\u001b[39;49;00m data \u001b[39mis\u001b[39;49;00m \u001b[39mnot\u001b[39;49;00m \u001b[39mNone\u001b[39;49;00m \u001b[39melse\u001b[39;49;00m {}), \u001b[39m*\u001b[39;49m\u001b[39m*\u001b[39;49mkwargs)\n",
      "File \u001b[0;32m/usr/lib/python3/dist-packages/matplotlib/axes/_axes.py:1743\u001b[0m, in \u001b[0;36mAxes.plot\u001b[0;34m(self, scalex, scaley, data, *args, **kwargs)\u001b[0m\n\u001b[1;32m   <a href='file:///usr/lib/python3/dist-packages/matplotlib/axes/_axes.py?line=1511'>1512</a>\u001b[0m \u001b[39m\"\"\"\u001b[39;00m\n\u001b[1;32m   <a href='file:///usr/lib/python3/dist-packages/matplotlib/axes/_axes.py?line=1512'>1513</a>\u001b[0m \u001b[39mPlot y versus x as lines and/or markers.\u001b[39;00m\n\u001b[1;32m   <a href='file:///usr/lib/python3/dist-packages/matplotlib/axes/_axes.py?line=1513'>1514</a>\u001b[0m \n\u001b[0;32m   (...)\u001b[0m\n\u001b[1;32m   <a href='file:///usr/lib/python3/dist-packages/matplotlib/axes/_axes.py?line=1739'>1740</a>\u001b[0m \u001b[39m(``'green'``) or hex strings (``'#008000'``).\u001b[39;00m\n\u001b[1;32m   <a href='file:///usr/lib/python3/dist-packages/matplotlib/axes/_axes.py?line=1740'>1741</a>\u001b[0m \u001b[39m\"\"\"\u001b[39;00m\n\u001b[1;32m   <a href='file:///usr/lib/python3/dist-packages/matplotlib/axes/_axes.py?line=1741'>1742</a>\u001b[0m kwargs \u001b[39m=\u001b[39m cbook\u001b[39m.\u001b[39mnormalize_kwargs(kwargs, mlines\u001b[39m.\u001b[39mLine2D)\n\u001b[0;32m-> <a href='file:///usr/lib/python3/dist-packages/matplotlib/axes/_axes.py?line=1742'>1743</a>\u001b[0m lines \u001b[39m=\u001b[39m [\u001b[39m*\u001b[39m\u001b[39mself\u001b[39m\u001b[39m.\u001b[39m_get_lines(\u001b[39m*\u001b[39margs, data\u001b[39m=\u001b[39mdata, \u001b[39m*\u001b[39m\u001b[39m*\u001b[39mkwargs)]\n\u001b[1;32m   <a href='file:///usr/lib/python3/dist-packages/matplotlib/axes/_axes.py?line=1743'>1744</a>\u001b[0m \u001b[39mfor\u001b[39;00m line \u001b[39min\u001b[39;00m lines:\n\u001b[1;32m   <a href='file:///usr/lib/python3/dist-packages/matplotlib/axes/_axes.py?line=1744'>1745</a>\u001b[0m     \u001b[39mself\u001b[39m\u001b[39m.\u001b[39madd_line(line)\n",
      "File \u001b[0;32m/usr/lib/python3/dist-packages/matplotlib/axes/_base.py:273\u001b[0m, in \u001b[0;36m_process_plot_var_args.__call__\u001b[0;34m(self, data, *args, **kwargs)\u001b[0m\n\u001b[1;32m    <a href='file:///usr/lib/python3/dist-packages/matplotlib/axes/_base.py?line=270'>271</a>\u001b[0m     this \u001b[39m+\u001b[39m\u001b[39m=\u001b[39m args[\u001b[39m0\u001b[39m],\n\u001b[1;32m    <a href='file:///usr/lib/python3/dist-packages/matplotlib/axes/_base.py?line=271'>272</a>\u001b[0m     args \u001b[39m=\u001b[39m args[\u001b[39m1\u001b[39m:]\n\u001b[0;32m--> <a href='file:///usr/lib/python3/dist-packages/matplotlib/axes/_base.py?line=272'>273</a>\u001b[0m \u001b[39myield from\u001b[39;00m \u001b[39mself\u001b[39;49m\u001b[39m.\u001b[39;49m_plot_args(this, kwargs)\n",
      "File \u001b[0;32m/usr/lib/python3/dist-packages/matplotlib/axes/_base.py:418\u001b[0m, in \u001b[0;36m_process_plot_var_args._plot_args\u001b[0;34m(self, tup, kwargs)\u001b[0m\n\u001b[1;32m    <a href='file:///usr/lib/python3/dist-packages/matplotlib/axes/_base.py?line=415'>416</a>\u001b[0m \u001b[39mif\u001b[39;00m ncx \u001b[39m>\u001b[39m \u001b[39m1\u001b[39m \u001b[39mand\u001b[39;00m ncy \u001b[39m>\u001b[39m \u001b[39m1\u001b[39m \u001b[39mand\u001b[39;00m ncx \u001b[39m!=\u001b[39m ncy:\n\u001b[1;32m    <a href='file:///usr/lib/python3/dist-packages/matplotlib/axes/_base.py?line=416'>417</a>\u001b[0m     \u001b[39mraise\u001b[39;00m \u001b[39mValueError\u001b[39;00m(\u001b[39mf\u001b[39m\u001b[39m\"\u001b[39m\u001b[39mx has \u001b[39m\u001b[39m{\u001b[39;00mncx\u001b[39m}\u001b[39;00m\u001b[39m columns but y has \u001b[39m\u001b[39m{\u001b[39;00mncy\u001b[39m}\u001b[39;00m\u001b[39m columns\u001b[39m\u001b[39m\"\u001b[39m)\n\u001b[0;32m--> <a href='file:///usr/lib/python3/dist-packages/matplotlib/axes/_base.py?line=417'>418</a>\u001b[0m \u001b[39mreturn\u001b[39;00m [func(x[:, j \u001b[39m%\u001b[39m ncx], y[:, j \u001b[39m%\u001b[39m ncy], kw, kwargs)\n\u001b[1;32m    <a href='file:///usr/lib/python3/dist-packages/matplotlib/axes/_base.py?line=418'>419</a>\u001b[0m         \u001b[39mfor\u001b[39;00m j \u001b[39min\u001b[39;00m \u001b[39mrange\u001b[39m(\u001b[39mmax\u001b[39m(ncx, ncy))]\n",
      "File \u001b[0;32m/usr/lib/python3/dist-packages/matplotlib/axes/_base.py:418\u001b[0m, in \u001b[0;36m<listcomp>\u001b[0;34m(.0)\u001b[0m\n\u001b[1;32m    <a href='file:///usr/lib/python3/dist-packages/matplotlib/axes/_base.py?line=415'>416</a>\u001b[0m \u001b[39mif\u001b[39;00m ncx \u001b[39m>\u001b[39m \u001b[39m1\u001b[39m \u001b[39mand\u001b[39;00m ncy \u001b[39m>\u001b[39m \u001b[39m1\u001b[39m \u001b[39mand\u001b[39;00m ncx \u001b[39m!=\u001b[39m ncy:\n\u001b[1;32m    <a href='file:///usr/lib/python3/dist-packages/matplotlib/axes/_base.py?line=416'>417</a>\u001b[0m     \u001b[39mraise\u001b[39;00m \u001b[39mValueError\u001b[39;00m(\u001b[39mf\u001b[39m\u001b[39m\"\u001b[39m\u001b[39mx has \u001b[39m\u001b[39m{\u001b[39;00mncx\u001b[39m}\u001b[39;00m\u001b[39m columns but y has \u001b[39m\u001b[39m{\u001b[39;00mncy\u001b[39m}\u001b[39;00m\u001b[39m columns\u001b[39m\u001b[39m\"\u001b[39m)\n\u001b[0;32m--> <a href='file:///usr/lib/python3/dist-packages/matplotlib/axes/_base.py?line=417'>418</a>\u001b[0m \u001b[39mreturn\u001b[39;00m [func(x[:, j \u001b[39m%\u001b[39;49m ncx], y[:, j \u001b[39m%\u001b[39;49m ncy], kw, kwargs)\n\u001b[1;32m    <a href='file:///usr/lib/python3/dist-packages/matplotlib/axes/_base.py?line=418'>419</a>\u001b[0m         \u001b[39mfor\u001b[39;00m j \u001b[39min\u001b[39;00m \u001b[39mrange\u001b[39m(\u001b[39mmax\u001b[39m(ncx, ncy))]\n",
      "File \u001b[0;32m/usr/lib/python3/dist-packages/matplotlib/axes/_base.py:312\u001b[0m, in \u001b[0;36m_process_plot_var_args._makeline\u001b[0;34m(self, x, y, kw, kwargs)\u001b[0m\n\u001b[1;32m    <a href='file:///usr/lib/python3/dist-packages/matplotlib/axes/_base.py?line=309'>310</a>\u001b[0m default_dict \u001b[39m=\u001b[39m \u001b[39mself\u001b[39m\u001b[39m.\u001b[39m_getdefaults(\u001b[39mset\u001b[39m(), kw)\n\u001b[1;32m    <a href='file:///usr/lib/python3/dist-packages/matplotlib/axes/_base.py?line=310'>311</a>\u001b[0m \u001b[39mself\u001b[39m\u001b[39m.\u001b[39m_setdefaults(default_dict, kw)\n\u001b[0;32m--> <a href='file:///usr/lib/python3/dist-packages/matplotlib/axes/_base.py?line=311'>312</a>\u001b[0m seg \u001b[39m=\u001b[39m mlines\u001b[39m.\u001b[39;49mLine2D(x, y, \u001b[39m*\u001b[39;49m\u001b[39m*\u001b[39;49mkw)\n\u001b[1;32m    <a href='file:///usr/lib/python3/dist-packages/matplotlib/axes/_base.py?line=312'>313</a>\u001b[0m \u001b[39mreturn\u001b[39;00m seg\n",
      "File \u001b[0;32m/usr/lib/python3/dist-packages/matplotlib/lines.py:390\u001b[0m, in \u001b[0;36mLine2D.__init__\u001b[0;34m(self, xdata, ydata, linewidth, linestyle, color, marker, markersize, markeredgewidth, markeredgecolor, markerfacecolor, markerfacecoloralt, fillstyle, antialiased, dash_capstyle, solid_capstyle, dash_joinstyle, solid_joinstyle, pickradius, drawstyle, markevery, **kwargs)\u001b[0m\n\u001b[1;32m    <a href='file:///usr/lib/python3/dist-packages/matplotlib/lines.py?line=385'>386</a>\u001b[0m \u001b[39mself\u001b[39m\u001b[39m.\u001b[39mset_markeredgewidth(markeredgewidth)\n\u001b[1;32m    <a href='file:///usr/lib/python3/dist-packages/matplotlib/lines.py?line=387'>388</a>\u001b[0m \u001b[39m# update kwargs before updating data to give the caller a\u001b[39;00m\n\u001b[1;32m    <a href='file:///usr/lib/python3/dist-packages/matplotlib/lines.py?line=388'>389</a>\u001b[0m \u001b[39m# chance to init axes (and hence unit support)\u001b[39;00m\n\u001b[0;32m--> <a href='file:///usr/lib/python3/dist-packages/matplotlib/lines.py?line=389'>390</a>\u001b[0m \u001b[39mself\u001b[39;49m\u001b[39m.\u001b[39;49mupdate(kwargs)\n\u001b[1;32m    <a href='file:///usr/lib/python3/dist-packages/matplotlib/lines.py?line=390'>391</a>\u001b[0m \u001b[39mself\u001b[39m\u001b[39m.\u001b[39mpickradius \u001b[39m=\u001b[39m pickradius\n\u001b[1;32m    <a href='file:///usr/lib/python3/dist-packages/matplotlib/lines.py?line=391'>392</a>\u001b[0m \u001b[39mself\u001b[39m\u001b[39m.\u001b[39mind_offset \u001b[39m=\u001b[39m \u001b[39m0\u001b[39m\n",
      "File \u001b[0;32m/usr/lib/python3/dist-packages/matplotlib/artist.py:981\u001b[0m, in \u001b[0;36mArtist.update\u001b[0;34m(self, props)\u001b[0m\n\u001b[1;32m    <a href='file:///usr/lib/python3/dist-packages/matplotlib/artist.py?line=972'>973</a>\u001b[0m \u001b[39m\"\"\"\u001b[39;00m\n\u001b[1;32m    <a href='file:///usr/lib/python3/dist-packages/matplotlib/artist.py?line=973'>974</a>\u001b[0m \u001b[39mUpdate this artist's properties from the dict *props*.\u001b[39;00m\n\u001b[1;32m    <a href='file:///usr/lib/python3/dist-packages/matplotlib/artist.py?line=974'>975</a>\u001b[0m \n\u001b[0;32m   (...)\u001b[0m\n\u001b[1;32m    <a href='file:///usr/lib/python3/dist-packages/matplotlib/artist.py?line=977'>978</a>\u001b[0m \u001b[39mprops : dict\u001b[39;00m\n\u001b[1;32m    <a href='file:///usr/lib/python3/dist-packages/matplotlib/artist.py?line=978'>979</a>\u001b[0m \u001b[39m\"\"\"\u001b[39;00m\n\u001b[1;32m    <a href='file:///usr/lib/python3/dist-packages/matplotlib/artist.py?line=979'>980</a>\u001b[0m ret \u001b[39m=\u001b[39m []\n\u001b[0;32m--> <a href='file:///usr/lib/python3/dist-packages/matplotlib/artist.py?line=980'>981</a>\u001b[0m \u001b[39mwith\u001b[39;00m cbook\u001b[39m.\u001b[39m_setattr_cm(\u001b[39mself\u001b[39m, eventson\u001b[39m=\u001b[39m\u001b[39mFalse\u001b[39;00m):\n\u001b[1;32m    <a href='file:///usr/lib/python3/dist-packages/matplotlib/artist.py?line=981'>982</a>\u001b[0m     \u001b[39mfor\u001b[39;00m k, v \u001b[39min\u001b[39;00m props\u001b[39m.\u001b[39mitems():\n\u001b[1;32m    <a href='file:///usr/lib/python3/dist-packages/matplotlib/artist.py?line=982'>983</a>\u001b[0m         \u001b[39mif\u001b[39;00m k \u001b[39m!=\u001b[39m k\u001b[39m.\u001b[39mlower():\n",
      "File \u001b[0;32m/usr/lib/python3.9/contextlib.py:114\u001b[0m, in \u001b[0;36m_GeneratorContextManager.__enter__\u001b[0;34m(self)\u001b[0m\n\u001b[1;32m    <a href='file:///usr/lib/python3.9/contextlib.py?line=106'>107</a>\u001b[0m \u001b[39mclass\u001b[39;00m \u001b[39m_GeneratorContextManager\u001b[39;00m(\n\u001b[1;32m    <a href='file:///usr/lib/python3.9/contextlib.py?line=107'>108</a>\u001b[0m     _GeneratorContextManagerBase,\n\u001b[1;32m    <a href='file:///usr/lib/python3.9/contextlib.py?line=108'>109</a>\u001b[0m     AbstractContextManager,\n\u001b[1;32m    <a href='file:///usr/lib/python3.9/contextlib.py?line=109'>110</a>\u001b[0m     ContextDecorator,\n\u001b[1;32m    <a href='file:///usr/lib/python3.9/contextlib.py?line=110'>111</a>\u001b[0m ):\n\u001b[1;32m    <a href='file:///usr/lib/python3.9/contextlib.py?line=111'>112</a>\u001b[0m     \u001b[39m\"\"\"Helper for @contextmanager decorator.\"\"\"\u001b[39;00m\n\u001b[0;32m--> <a href='file:///usr/lib/python3.9/contextlib.py?line=113'>114</a>\u001b[0m     \u001b[39mdef\u001b[39;00m \u001b[39m__enter__\u001b[39m(\u001b[39mself\u001b[39m):\n\u001b[1;32m    <a href='file:///usr/lib/python3.9/contextlib.py?line=114'>115</a>\u001b[0m         \u001b[39m# do not keep args and kwds alive unnecessarily\u001b[39;00m\n\u001b[1;32m    <a href='file:///usr/lib/python3.9/contextlib.py?line=115'>116</a>\u001b[0m         \u001b[39m# they are only needed for recreation, which is not possible anymore\u001b[39;00m\n\u001b[1;32m    <a href='file:///usr/lib/python3.9/contextlib.py?line=116'>117</a>\u001b[0m         \u001b[39mdel\u001b[39;00m \u001b[39mself\u001b[39m\u001b[39m.\u001b[39margs, \u001b[39mself\u001b[39m\u001b[39m.\u001b[39mkwds, \u001b[39mself\u001b[39m\u001b[39m.\u001b[39mfunc\n\u001b[1;32m    <a href='file:///usr/lib/python3.9/contextlib.py?line=117'>118</a>\u001b[0m         \u001b[39mtry\u001b[39;00m:\n",
      "\u001b[0;31mKeyboardInterrupt\u001b[0m: "
     ]
    }
   ],
   "source": [
    "# Generate scatter plot for training data \n",
    "data_train = np.array(data_train)\n",
    "x_train_male = data_train[y_train == 0]\n",
    "print(len(x_train_male[0]))\n",
    "x_train_female = data_train[y_train == 1]\n",
    "plt.plot(x_train_female)\n",
    "plt.plot(x_train_male)\n",
    "plt.title('Linearly separable data')\n",
    "plt.xlabel('feature 1')\n",
    "plt.ylabel('feature 2')\n",
    "plt.show()\n"
   ]
  }
 ],
 "metadata": {
  "interpreter": {
   "hash": "40d3a090f54c6569ab1632332b64b2c03c39dcf918b08424e98f38b5ae0af88f"
  },
  "kernelspec": {
   "display_name": "Python 3.8.8 ('base')",
   "language": "python",
   "name": "python3"
  },
  "language_info": {
   "codemirror_mode": {
    "name": "ipython",
    "version": 3
   },
   "file_extension": ".py",
   "mimetype": "text/x-python",
   "name": "python",
   "nbconvert_exporter": "python",
   "pygments_lexer": "ipython3",
   "version": "3.9.7"
  },
  "orig_nbformat": 4
 },
 "nbformat": 4,
 "nbformat_minor": 2
}
