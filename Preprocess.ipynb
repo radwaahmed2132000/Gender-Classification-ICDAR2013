{
  "cells": [
    {
      "cell_type": "code",
      "execution_count": 1,
      "metadata": {
        "id": "AFKbIddaAvSy"
      },
      "outputs": [],
      "source": [
        "%%capture\n",
        "import numpy as np\n",
        "import pandas as pd\n",
        "from matplotlib import pyplot as plt\n",
        "import cv2\n",
        "from skimage import io\n",
        "import imutils\n",
        "from skimage.feature import local_binary_pattern\n",
        "from IPython.display import clear_output\n",
        "#from google.colab import drive\n",
        "import os\n",
        "import glob\n",
        "#from tqdm import tqdm\n",
        "from tqdm.notebook import tqdm\n",
        "#drive.mount('/content/drive')\n",
        "%matplotlib inline"
      ]
    },
    {
      "cell_type": "code",
      "execution_count": 2,
      "metadata": {
        "id": "J5Y2vKgrBUPJ"
      },
      "outputs": [],
      "source": [
        "# if not os.path.exists('/content/drive/MyDrive/ICDAR2013'):\n",
        "#     os.system('cp /content/drive/MyDrive/ICDAR2013.zip ./')\n",
        "#     os.system('unzip ICDAR2013.zip')\n",
        "# if not os.path.exists('/content/drive/MyDrive/CMP2023'):\n",
        "#     os.system('cp /content/drive/MyDrive/CMP2023.zip ./')\n",
        "#     os.system('unzip CMP2023.zip')"
      ]
    },
    {
      "cell_type": "code",
      "execution_count": 3,
      "metadata": {
        "id": "ChUGcc0yBjWa"
      },
      "outputs": [],
      "source": [
        "def remove_shadow(img):\n",
        "    rgb_planes = cv2.split(img)\n",
        "    kernel = np.ones((20, 20), np.float32)/400\n",
        "    result_planes = []\n",
        "    for plane in rgb_planes:\n",
        "        f = cv2.filter2D(plane, -1, kernel)\n",
        "        result_planes.append(f)\n",
        "    result_planes = np.array(result_planes, np.int32)\n",
        "    result_planes = (rgb_planes-result_planes)\n",
        "    result = cv2.merge(result_planes)\n",
        "    result[result < 0] = 0\n",
        "    result = result*9\n",
        "    result = np.array(result, np.uint8)\n",
        "    return result\n",
        "\n",
        "def show_img(imgs, size=10):\n",
        "    if type(imgs) is not list:\n",
        "        imgs = [imgs]\n",
        "    fig = plt.figure(figsize=(size, size))\n",
        "    for i in range(len(imgs)):\n",
        "        a = fig.add_subplot(1, len(imgs), i+1)\n",
        "        plt.imshow(imgs[i], cmap='gray')\n",
        "        plt.axis(\"off\")\n",
        "    plt.show()\n",
        "\n",
        "def save_img(imgs, name='img', location='./', size=0):\n",
        "    if type(imgs) is not list:\n",
        "         if (size != 0):\n",
        "            imgs = imutils.resize(imgs, width=size)\n",
        "         io.imsave(location+'/'+name+'.png',imgs)\n",
        "    else:\n",
        "        if (size != 0):\n",
        "            for i in tqdm(range(len(imgs))):\n",
        "                imgs[i] = imutils.resize(imgs[i], width=size)\n",
        "        for i in tqdm(range(len(imgs))):\n",
        "            io.imsave(location+'/'+name+str(i)+'.png',imgs[i])\n",
        "\n",
        "def read_img(path,size=0):\n",
        "    img = io.imread(path)\n",
        "    img = cv2.cvtColor(img, cv2.COLOR_BGR2GRAY)\n",
        "    if size!=0:\n",
        "        img = imutils.resize(img, width=size)\n",
        "    img = img[:int(img.shape[0]*(1-0.1))]\n",
        "    img = img[:, int(img.shape[1]*0.05):]\n",
        "    img = img[:, :int(img.shape[1]*(1-0.05))]\n",
        "    img = img[int(img.shape[0]*0.05):]\n",
        "    return img\n",
        "\n",
        "def clip_writing_area(img):\n",
        "    shadow_free_img = remove_shadow(img)\n",
        "    binary = (shadow_free_img > 90).astype(np.uint8)\n",
        "    kernel = np.ones((3, 3), np.uint8)\n",
        "    erosion = cv2.erode(binary, kernel, iterations=2)\n",
        "    dilate = cv2.dilate(erosion, kernel, iterations=30)\n",
        "    coords = cv2.findNonZero(dilate)\n",
        "    x, y, w, h = cv2.boundingRect(coords)\n",
        "    rect = img[y:y+h, x:x+w]\n",
        "    return rect\n",
        "\n",
        "def lbp(img):\n",
        "    lbp = local_binary_pattern(img, 8, 1, method=\"uniform\")\n",
        "    return lbp\n",
        "\n",
        "def histogram(img):\n",
        "    hist,bins = np.histogram(img.ravel(),256,[0,256])\n",
        "    return hist"
      ]
    },
    {
      "cell_type": "code",
      "execution_count": 4,
      "metadata": {
        "id": "kYSSfyOOBu00"
      },
      "outputs": [],
      "source": [
        "#!mkdir -p \"./Datasets/CMP2023/Female/\"\n",
        "#!mkdir -p \"./Datasets/CMP2023/Male/\""
      ]
    },
    {
      "cell_type": "code",
      "execution_count": 9,
      "metadata": {
        "colab": {
          "base_uri": "https://localhost:8080/",
          "height": 118,
          "referenced_widgets": [
            "3aad88e9d553413e9da62f1b458f015c",
            "d2a8a836c25a4bfb93519fddc6328733",
            "6cdbdd97cf134792878ad82826944ba4",
            "da659b9dc162474a9b3c4f02c11ab7f1",
            "3ee64373517b4fc0a7f40e361c23c854",
            "5cbfb5df9c904a748b70cc7dd1856189",
            "76066c307de84efc95d7182fb1db8209",
            "b5bea0fe0dde4337b657cd42a0f0dd3b",
            "11c94e59c40a48878835f8268b196cc7",
            "54f50d896927464aaf02fc79558b7abf",
            "be243039871d405fa28a224a64a393bf"
          ]
        },
        "id": "TeXKZg-6hA_H",
        "outputId": "ca04cff9-92b0-41ec-bf28-0ca0fd883061"
      },
      "outputs": [
        {
          "data": {
            "application/vnd.jupyter.widget-view+json": {
              "model_id": "c306a4481107492c9974f5b165d4c696",
              "version_major": 2,
              "version_minor": 0
            },
            "text/plain": [
              "  0%|          | 0/132 [00:00<?, ?it/s]"
            ]
          },
          "metadata": {},
          "output_type": "display_data"
        },
        {
          "name": "stdout",
          "output_type": "stream",
          "text": [
            "./CMP2023/Female/.DS_Store\n"
          ]
        },
        {
          "data": {
            "application/vnd.jupyter.widget-view+json": {
              "model_id": "8317d84f46fc42338062ff1b4c68e9c2",
              "version_major": 2,
              "version_minor": 0
            },
            "text/plain": [
              "  0%|          | 0/233 [00:00<?, ?it/s]"
            ]
          },
          "metadata": {},
          "output_type": "display_data"
        },
        {
          "name": "stdout",
          "output_type": "stream",
          "text": [
            "./CMP2023/Male/.DS_Store\n"
          ]
        }
      ],
      "source": [
        "index=1\n",
        "for dirname, _, filenames in os.walk('./CMP2023/Female/'):\n",
        "    for filename in tqdm(filenames):\n",
        "        filepath = dirname+filename\n",
        "        try:\n",
        "            img = read_img(filepath,3000)\n",
        "            img = clip_writing_area(img)\n",
        "            save_img(img,\"F\"+str(index),\"./Datasets/CMP2023_Clipped/Female/\")\n",
        "            index+=1\n",
        "        except:\n",
        "            print(filepath)\n",
        "\n",
        "index=1\n",
        "for dirname, _, filenames in os.walk('./CMP2023/Male/'):\n",
        "    for filename in tqdm(filenames):\n",
        "        filepath = dirname+filename\n",
        "        try:\n",
        "            img = read_img(filepath,3000)\n",
        "            img = clip_writing_area(img)\n",
        "            save_img(img,\"M\"+str(index),\"./Datasets/CMP2023_Clipped/Male/\")\n",
        "            index+=1\n",
        "        except:\n",
        "            print(filepath)"
      ]
    },
    {
      "cell_type": "code",
      "execution_count": 6,
      "metadata": {
        "id": "E_FjXHf4CZHO"
      },
      "outputs": [],
      "source": [
        "#!mkdir -p \"./ICDAR13_Clipped/Female/\"\n",
        "#!mkdir -p \"./ICDAR13_Clipped/Male/\""
      ]
    },
    {
      "cell_type": "code",
      "execution_count": 7,
      "metadata": {
        "id": "6C3HCqt6CcD6"
      },
      "outputs": [
        {
          "data": {
            "application/vnd.jupyter.widget-view+json": {
              "model_id": "edee44db362d4d0b9408ece4f529cc60",
              "version_major": 2,
              "version_minor": 0
            },
            "text/plain": [
              "  0%|          | 0/564 [00:00<?, ?it/s]"
            ]
          },
          "metadata": {},
          "output_type": "display_data"
        },
        {
          "data": {
            "application/vnd.jupyter.widget-view+json": {
              "model_id": "d789dc4697c04bfbbecdb633155fce9f",
              "version_major": 2,
              "version_minor": 0
            },
            "text/plain": [
              "  0%|          | 0/286 [00:00<?, ?it/s]"
            ]
          },
          "metadata": {},
          "output_type": "display_data"
        }
      ],
      "source": [
        "index=1\n",
        "for dirname, _, filenames in os.walk('./ICDAR2013/Female/'):\n",
        "    for filename in tqdm(filenames):\n",
        "        filepath = dirname+filename\n",
        "        try:\n",
        "            img = read_img(filepath,3000)\n",
        "            img = clip_writing_area(img)\n",
        "            save_img(img,\"F\"+str(index),\"./Datasets/ICDAR2013_Clipped/Female/\")\n",
        "            index+=1\n",
        "        except:\n",
        "            print(filepath)\n",
        "\n",
        "index=1\n",
        "for dirname, _, filenames in os.walk('./ICDAR2013/Male/'):\n",
        "    for filename in tqdm(filenames):\n",
        "        filepath = dirname+filename\n",
        "        try:\n",
        "            img = read_img(filepath,3000)\n",
        "            img = clip_writing_area(img)\n",
        "            save_img(img,\"M\"+str(index),\"./Datasets/ICDAR2013_Clipped/Male/\")\n",
        "            index+=1\n",
        "        except:\n",
        "            print(filepath)"
      ]
    },
    {
      "cell_type": "code",
      "execution_count": 8,
      "metadata": {
        "id": "QM3F01grexHx"
      },
      "outputs": [
        {
          "name": "stdout",
          "output_type": "stream",
          "text": [
            "286\n"
          ]
        },
        {
          "ename": "FileNotFoundError",
          "evalue": "[Errno 2] No such file or directory: './ICDAR2013_Clipped/Male/'",
          "output_type": "error",
          "traceback": [
            "\u001b[0;31m---------------------------------------------------------------------------\u001b[0m",
            "\u001b[0;31mFileNotFoundError\u001b[0m                         Traceback (most recent call last)",
            "\u001b[1;32m/Users/essam/Documents/GitHub/Gender-Classification-ICDAR2013/Preprocess.ipynb Cell 8'\u001b[0m in \u001b[0;36m<cell line: 5>\u001b[0;34m()\u001b[0m\n\u001b[1;32m      <a href='vscode-notebook-cell:/Users/essam/Documents/GitHub/Gender-Classification-ICDAR2013/Preprocess.ipynb#ch0000007?line=1'>2</a>\u001b[0m res \u001b[39m=\u001b[39m os\u001b[39m.\u001b[39mlistdir(\u001b[39m\"\u001b[39m\u001b[39m./ICDAR2013/Male/\u001b[39m\u001b[39m\"\u001b[39m)\n\u001b[1;32m      <a href='vscode-notebook-cell:/Users/essam/Documents/GitHub/Gender-Classification-ICDAR2013/Preprocess.ipynb#ch0000007?line=2'>3</a>\u001b[0m \u001b[39mprint\u001b[39m(\u001b[39mlen\u001b[39m(res))\n\u001b[0;32m----> <a href='vscode-notebook-cell:/Users/essam/Documents/GitHub/Gender-Classification-ICDAR2013/Preprocess.ipynb#ch0000007?line=4'>5</a>\u001b[0m res \u001b[39m=\u001b[39m os\u001b[39m.\u001b[39;49mlistdir(\u001b[39m\"\u001b[39;49m\u001b[39m./ICDAR2013_Clipped/Male/\u001b[39;49m\u001b[39m\"\u001b[39;49m)\n\u001b[1;32m      <a href='vscode-notebook-cell:/Users/essam/Documents/GitHub/Gender-Classification-ICDAR2013/Preprocess.ipynb#ch0000007?line=5'>6</a>\u001b[0m \u001b[39mprint\u001b[39m(\u001b[39mlen\u001b[39m(res))\n\u001b[1;32m      <a href='vscode-notebook-cell:/Users/essam/Documents/GitHub/Gender-Classification-ICDAR2013/Preprocess.ipynb#ch0000007?line=7'>8</a>\u001b[0m res \u001b[39m=\u001b[39m os\u001b[39m.\u001b[39mlistdir(\u001b[39m\"\u001b[39m\u001b[39m./ICDAR2013/Female/\u001b[39m\u001b[39m\"\u001b[39m)\n",
            "\u001b[0;31mFileNotFoundError\u001b[0m: [Errno 2] No such file or directory: './ICDAR2013_Clipped/Male/'"
          ]
        }
      ],
      "source": [
        "import os\n",
        "res = os.listdir(\"./ICDAR2013/Male/\")\n",
        "print(len(res))\n",
        "\n",
        "res = os.listdir(\"./ICDAR2013_Clipped/Male/\")\n",
        "print(len(res))\n",
        "\n",
        "res = os.listdir(\"./ICDAR2013/Female/\")\n",
        "print(len(res))\n",
        "\n",
        "res = os.listdir(\"./ICDAR2013_Clipped/Female/\")\n",
        "print(len(res))\n",
        "\n",
        "res = os.listdir(\"./CMP2023/Male/\")\n",
        "print(len(res))\n",
        "\n",
        "res = os.listdir(\"./CMP2023_Clipped/Male/\")\n",
        "print(len(res))\n",
        "\n",
        "res = os.listdir(\"./CMP2023/Female/\")\n",
        "print(len(res))\n",
        "\n",
        "\n",
        "res = os.listdir(\"./CMP2023_Clipped/Female/\")\n",
        "print(len(res))\n"
      ]
    },
    {
      "cell_type": "code",
      "execution_count": null,
      "metadata": {
        "id": "bzMQY7cqD85j"
      },
      "outputs": [
        {
          "ename": "",
          "evalue": "",
          "output_type": "error",
          "traceback": [
            "\u001b[1;31mFailed to start the Kernel. \n",
            "The 'python388jvsc74a57bd040d3a090f54c6569ab1632332b64b2c03c39dcf918b08424e98f38b5ae0af88f' kernel is not available. Please pick another suitable kernel instead, or install that kernel. \n",
            "View Jupyter <a href='command:jupyter.viewOutput'>log</a> for further details."
          ]
        },
        {
          "ename": "",
          "evalue": "",
          "output_type": "error",
          "traceback": [
            "\u001b[1;31mFailed to start the Kernel. \n",
            "The 'python388jvsc74a57bd040d3a090f54c6569ab1632332b64b2c03c39dcf918b08424e98f38b5ae0af88f' kernel is not available. Please pick another suitable kernel instead, or install that kernel. \n",
            "View Jupyter <a href='command:jupyter.viewOutput'>log</a> for further details."
          ]
        }
      ],
      "source": [
        "#!mkdir -p \"/content/drive/MyDrive/tempNN\"\n",
        "#!cp -r \"./CMP2023\" \"/content/drive/MyDrive/tempNN/\"\n",
        "#!cp -r \"./CMP2023_Clipped\" \"/content/drive/MyDrive/tempNN/\"\n",
        "#!cp -r \"./ICDAR2013\" \"/content/drive/MyDrive/tempNN/\"\n",
        "#!cp -r \"./ICDAR2013_Clipped\" \"/content/drive/MyDrive/tempNN/\""
      ]
    }
  ],
  "metadata": {
    "colab": {
      "name": "Preapare_cilped.ipynb",
      "provenance": []
    },
    "interpreter": {
      "hash": "40d3a090f54c6569ab1632332b64b2c03c39dcf918b08424e98f38b5ae0af88f"
    },
    "kernelspec": {
      "display_name": "Python 3.8.8 ('base')",
      "language": "python",
      "name": "python3"
    },
    "language_info": {
      "codemirror_mode": {
        "name": "ipython",
        "version": 3
      },
      "file_extension": ".py",
      "mimetype": "text/x-python",
      "name": "python",
      "nbconvert_exporter": "python",
      "pygments_lexer": "ipython3",
      "version": "3.8.8"
    },
    "widgets": {
      "application/vnd.jupyter.widget-state+json": {
        "11c94e59c40a48878835f8268b196cc7": {
          "model_module": "@jupyter-widgets/controls",
          "model_module_version": "1.5.0",
          "model_name": "ProgressStyleModel",
          "state": {
            "_model_module": "@jupyter-widgets/controls",
            "_model_module_version": "1.5.0",
            "_model_name": "ProgressStyleModel",
            "_view_count": null,
            "_view_module": "@jupyter-widgets/base",
            "_view_module_version": "1.2.0",
            "_view_name": "StyleView",
            "bar_color": null,
            "description_width": ""
          }
        },
        "3aad88e9d553413e9da62f1b458f015c": {
          "model_module": "@jupyter-widgets/controls",
          "model_module_version": "1.5.0",
          "model_name": "HBoxModel",
          "state": {
            "_dom_classes": [],
            "_model_module": "@jupyter-widgets/controls",
            "_model_module_version": "1.5.0",
            "_model_name": "HBoxModel",
            "_view_count": null,
            "_view_module": "@jupyter-widgets/controls",
            "_view_module_version": "1.5.0",
            "_view_name": "HBoxView",
            "box_style": "",
            "children": [
              "IPY_MODEL_d2a8a836c25a4bfb93519fddc6328733",
              "IPY_MODEL_6cdbdd97cf134792878ad82826944ba4",
              "IPY_MODEL_da659b9dc162474a9b3c4f02c11ab7f1"
            ],
            "layout": "IPY_MODEL_3ee64373517b4fc0a7f40e361c23c854"
          }
        },
        "3ee64373517b4fc0a7f40e361c23c854": {
          "model_module": "@jupyter-widgets/base",
          "model_module_version": "1.2.0",
          "model_name": "LayoutModel",
          "state": {
            "_model_module": "@jupyter-widgets/base",
            "_model_module_version": "1.2.0",
            "_model_name": "LayoutModel",
            "_view_count": null,
            "_view_module": "@jupyter-widgets/base",
            "_view_module_version": "1.2.0",
            "_view_name": "LayoutView",
            "align_content": null,
            "align_items": null,
            "align_self": null,
            "border": null,
            "bottom": null,
            "display": null,
            "flex": null,
            "flex_flow": null,
            "grid_area": null,
            "grid_auto_columns": null,
            "grid_auto_flow": null,
            "grid_auto_rows": null,
            "grid_column": null,
            "grid_gap": null,
            "grid_row": null,
            "grid_template_areas": null,
            "grid_template_columns": null,
            "grid_template_rows": null,
            "height": null,
            "justify_content": null,
            "justify_items": null,
            "left": null,
            "margin": null,
            "max_height": null,
            "max_width": null,
            "min_height": null,
            "min_width": null,
            "object_fit": null,
            "object_position": null,
            "order": null,
            "overflow": null,
            "overflow_x": null,
            "overflow_y": null,
            "padding": null,
            "right": null,
            "top": null,
            "visibility": null,
            "width": null
          }
        },
        "54f50d896927464aaf02fc79558b7abf": {
          "model_module": "@jupyter-widgets/base",
          "model_module_version": "1.2.0",
          "model_name": "LayoutModel",
          "state": {
            "_model_module": "@jupyter-widgets/base",
            "_model_module_version": "1.2.0",
            "_model_name": "LayoutModel",
            "_view_count": null,
            "_view_module": "@jupyter-widgets/base",
            "_view_module_version": "1.2.0",
            "_view_name": "LayoutView",
            "align_content": null,
            "align_items": null,
            "align_self": null,
            "border": null,
            "bottom": null,
            "display": null,
            "flex": null,
            "flex_flow": null,
            "grid_area": null,
            "grid_auto_columns": null,
            "grid_auto_flow": null,
            "grid_auto_rows": null,
            "grid_column": null,
            "grid_gap": null,
            "grid_row": null,
            "grid_template_areas": null,
            "grid_template_columns": null,
            "grid_template_rows": null,
            "height": null,
            "justify_content": null,
            "justify_items": null,
            "left": null,
            "margin": null,
            "max_height": null,
            "max_width": null,
            "min_height": null,
            "min_width": null,
            "object_fit": null,
            "object_position": null,
            "order": null,
            "overflow": null,
            "overflow_x": null,
            "overflow_y": null,
            "padding": null,
            "right": null,
            "top": null,
            "visibility": null,
            "width": null
          }
        },
        "5cbfb5df9c904a748b70cc7dd1856189": {
          "model_module": "@jupyter-widgets/base",
          "model_module_version": "1.2.0",
          "model_name": "LayoutModel",
          "state": {
            "_model_module": "@jupyter-widgets/base",
            "_model_module_version": "1.2.0",
            "_model_name": "LayoutModel",
            "_view_count": null,
            "_view_module": "@jupyter-widgets/base",
            "_view_module_version": "1.2.0",
            "_view_name": "LayoutView",
            "align_content": null,
            "align_items": null,
            "align_self": null,
            "border": null,
            "bottom": null,
            "display": null,
            "flex": null,
            "flex_flow": null,
            "grid_area": null,
            "grid_auto_columns": null,
            "grid_auto_flow": null,
            "grid_auto_rows": null,
            "grid_column": null,
            "grid_gap": null,
            "grid_row": null,
            "grid_template_areas": null,
            "grid_template_columns": null,
            "grid_template_rows": null,
            "height": null,
            "justify_content": null,
            "justify_items": null,
            "left": null,
            "margin": null,
            "max_height": null,
            "max_width": null,
            "min_height": null,
            "min_width": null,
            "object_fit": null,
            "object_position": null,
            "order": null,
            "overflow": null,
            "overflow_x": null,
            "overflow_y": null,
            "padding": null,
            "right": null,
            "top": null,
            "visibility": null,
            "width": null
          }
        },
        "6cdbdd97cf134792878ad82826944ba4": {
          "model_module": "@jupyter-widgets/controls",
          "model_module_version": "1.5.0",
          "model_name": "FloatProgressModel",
          "state": {
            "_dom_classes": [],
            "_model_module": "@jupyter-widgets/controls",
            "_model_module_version": "1.5.0",
            "_model_name": "FloatProgressModel",
            "_view_count": null,
            "_view_module": "@jupyter-widgets/controls",
            "_view_module_version": "1.5.0",
            "_view_name": "ProgressView",
            "bar_style": "",
            "description": "",
            "description_tooltip": null,
            "layout": "IPY_MODEL_b5bea0fe0dde4337b657cd42a0f0dd3b",
            "max": 134,
            "min": 0,
            "orientation": "horizontal",
            "style": "IPY_MODEL_11c94e59c40a48878835f8268b196cc7",
            "value": 98
          }
        },
        "76066c307de84efc95d7182fb1db8209": {
          "model_module": "@jupyter-widgets/controls",
          "model_module_version": "1.5.0",
          "model_name": "DescriptionStyleModel",
          "state": {
            "_model_module": "@jupyter-widgets/controls",
            "_model_module_version": "1.5.0",
            "_model_name": "DescriptionStyleModel",
            "_view_count": null,
            "_view_module": "@jupyter-widgets/base",
            "_view_module_version": "1.2.0",
            "_view_name": "StyleView",
            "description_width": ""
          }
        },
        "b5bea0fe0dde4337b657cd42a0f0dd3b": {
          "model_module": "@jupyter-widgets/base",
          "model_module_version": "1.2.0",
          "model_name": "LayoutModel",
          "state": {
            "_model_module": "@jupyter-widgets/base",
            "_model_module_version": "1.2.0",
            "_model_name": "LayoutModel",
            "_view_count": null,
            "_view_module": "@jupyter-widgets/base",
            "_view_module_version": "1.2.0",
            "_view_name": "LayoutView",
            "align_content": null,
            "align_items": null,
            "align_self": null,
            "border": null,
            "bottom": null,
            "display": null,
            "flex": null,
            "flex_flow": null,
            "grid_area": null,
            "grid_auto_columns": null,
            "grid_auto_flow": null,
            "grid_auto_rows": null,
            "grid_column": null,
            "grid_gap": null,
            "grid_row": null,
            "grid_template_areas": null,
            "grid_template_columns": null,
            "grid_template_rows": null,
            "height": null,
            "justify_content": null,
            "justify_items": null,
            "left": null,
            "margin": null,
            "max_height": null,
            "max_width": null,
            "min_height": null,
            "min_width": null,
            "object_fit": null,
            "object_position": null,
            "order": null,
            "overflow": null,
            "overflow_x": null,
            "overflow_y": null,
            "padding": null,
            "right": null,
            "top": null,
            "visibility": null,
            "width": null
          }
        },
        "be243039871d405fa28a224a64a393bf": {
          "model_module": "@jupyter-widgets/controls",
          "model_module_version": "1.5.0",
          "model_name": "DescriptionStyleModel",
          "state": {
            "_model_module": "@jupyter-widgets/controls",
            "_model_module_version": "1.5.0",
            "_model_name": "DescriptionStyleModel",
            "_view_count": null,
            "_view_module": "@jupyter-widgets/base",
            "_view_module_version": "1.2.0",
            "_view_name": "StyleView",
            "description_width": ""
          }
        },
        "d2a8a836c25a4bfb93519fddc6328733": {
          "model_module": "@jupyter-widgets/controls",
          "model_module_version": "1.5.0",
          "model_name": "HTMLModel",
          "state": {
            "_dom_classes": [],
            "_model_module": "@jupyter-widgets/controls",
            "_model_module_version": "1.5.0",
            "_model_name": "HTMLModel",
            "_view_count": null,
            "_view_module": "@jupyter-widgets/controls",
            "_view_module_version": "1.5.0",
            "_view_name": "HTMLView",
            "description": "",
            "description_tooltip": null,
            "layout": "IPY_MODEL_5cbfb5df9c904a748b70cc7dd1856189",
            "placeholder": "​",
            "style": "IPY_MODEL_76066c307de84efc95d7182fb1db8209",
            "value": " 73%"
          }
        },
        "da659b9dc162474a9b3c4f02c11ab7f1": {
          "model_module": "@jupyter-widgets/controls",
          "model_module_version": "1.5.0",
          "model_name": "HTMLModel",
          "state": {
            "_dom_classes": [],
            "_model_module": "@jupyter-widgets/controls",
            "_model_module_version": "1.5.0",
            "_model_name": "HTMLModel",
            "_view_count": null,
            "_view_module": "@jupyter-widgets/controls",
            "_view_module_version": "1.5.0",
            "_view_name": "HTMLView",
            "description": "",
            "description_tooltip": null,
            "layout": "IPY_MODEL_54f50d896927464aaf02fc79558b7abf",
            "placeholder": "​",
            "style": "IPY_MODEL_be243039871d405fa28a224a64a393bf",
            "value": " 98/134 [05:33&lt;00:57,  1.60s/it]"
          }
        }
      }
    }
  },
  "nbformat": 4,
  "nbformat_minor": 0
}
