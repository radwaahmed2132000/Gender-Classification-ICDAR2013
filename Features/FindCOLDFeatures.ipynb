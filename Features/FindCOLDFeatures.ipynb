{
 "cells": [
  {
   "cell_type": "code",
   "execution_count": null,
   "metadata": {},
   "outputs": [],
   "source": [
    "# Imports\n",
    "import cv2\n",
    "import numpy as np\n",
    "import os\n",
    "import matplotlib.pyplot as plt\n",
    "import glob\n",
    "from sklearn import svm\n",
    "from skimage.feature import greycomatrix, greycoprops\n",
    "from sklearn import metrics\n",
    "from skimage.feature import local_binary_pattern"
   ]
  },
  {
   "cell_type": "code",
   "execution_count": null,
   "metadata": {},
   "outputs": [],
   "source": [
    "%run Read_Data.ipynb"
   ]
  },
  {
   "cell_type": "code",
   "execution_count": 6,
   "metadata": {},
   "outputs": [
    {
     "data": {
      "text/plain": [
       "{'divide': 'ignore', 'over': 'warn', 'under': 'ignore', 'invalid': 'warn'}"
      ]
     },
     "execution_count": 6,
     "metadata": {},
     "output_type": "execute_result"
    }
   ],
   "source": [
    "N_RHO_BINS = 7\n",
    "N_ANGLE_BINS = 12\n",
    "N_BINS = N_RHO_BINS * N_ANGLE_BINS\n",
    "BIN_SIZE = 360 // N_ANGLE_BINS\n",
    "R_INNER = 5.0\n",
    "R_OUTER = 35.0\n",
    "APPROX_POLY_FACTOR = 0.01\n",
    "K_S = np.arange(3, 6)\n",
    "np.seterr(divide = 'ignore')"
   ]
  },
  {
   "cell_type": "code",
   "execution_count": 7,
   "metadata": {},
   "outputs": [
    {
     "name": "stdout",
     "output_type": "stream",
     "text": [
      "(252,)\n"
     ]
    }
   ],
   "source": [
    "def get_cold_feature(image):\n",
    "\timage = cv2.GaussianBlur(image,(3,3),0)\n",
    "\tbw_image = cv2.threshold(image, 128, 255, cv2.THRESH_BINARY | cv2.THRESH_OTSU)[1]\n",
    "\n",
    "\tcontours, _= cv2.findContours(\n",
    "\t\t\t\tbw_image, cv2.RETR_TREE, \n",
    "\t\t\t\tcv2.CHAIN_APPROX_NONE\n",
    "\t\t\t\t)\n",
    "\tcontours = sorted(contours, key=cv2.contourArea, reverse=True)[1:]\n",
    "\n",
    "\trho_bins_edges = np.log10(np.linspace(R_INNER, R_OUTER, N_RHO_BINS))\n",
    "\tfeature_vectors = np.zeros((len(K_S), N_BINS))\n",
    "\n",
    "\tfor j, k in enumerate(K_S):\n",
    "\t\thist = np.zeros((N_RHO_BINS, N_ANGLE_BINS))\n",
    "\t\tfor cnt in contours:\n",
    "\t\t\tepsilon = APPROX_POLY_FACTOR * cv2.arcLength(cnt,True)\n",
    "\t\t\tcnt = cv2.approxPolyDP(cnt,epsilon,True)\n",
    "\t\t\tn_pixels = len(cnt)\n",
    "\t\t\t\n",
    "\t\t\tpoint_1s = np.array([point[0] for point in cnt])\n",
    "\t\t\tx1s, y1s = point_1s[:, 0], point_1s[:, 1]\n",
    "\t\t\tpoint_2s = np.array([cnt[(i + k) % n_pixels][0] for i in range(n_pixels)])\n",
    "\t\t\tx2s, y2s = point_2s[:, 0], point_2s[:, 1]\n",
    "\t\t\t\n",
    "\t\t\tthetas = np.degrees(np.arctan2(y2s - y1s, x2s - x1s) + np.pi)\n",
    "\t\t\trhos = np.sqrt((y2s - y1s) ** 2 + (x2s - x1s) ** 2)\n",
    "\t\t\trhos_log_space = np.log10(rhos)\n",
    "\t\t\t\n",
    "\t\t\tquantized_rhos = np.zeros(rhos.shape, dtype=int)\n",
    "\t\t\tfor i in range(N_RHO_BINS):\n",
    "\t\t\t\tquantized_rhos += (rhos_log_space < rho_bins_edges[i])\n",
    "\t\t\t\t\n",
    "\t\t\tfor i, r_bin in enumerate(quantized_rhos):\n",
    "\t\t\t\ttheta_bin = int(thetas[i] // BIN_SIZE) % N_ANGLE_BINS\n",
    "\t\t\t\thist[r_bin - 1, theta_bin] += 1\n",
    "\t\tnormalised_hist = hist / hist.sum()\n",
    "\t\tfeature_vectors[j] = normalised_hist.flatten()\n",
    "\tfeature_vectors = np.nan_to_num(feature_vectors)\n",
    "\tfeature_vector=feature_vectors.flatten()\n",
    "\treturn feature_vector"
   ]
  },
  {
   "cell_type": "code",
   "execution_count": null,
   "metadata": {},
   "outputs": [],
   "source": [
    "x_train = np.array([get_cold_feature((img)) for img in tqdm(x_train)])\n",
    "x_test = np.array([get_cold_feature((img)) for img in tqdm(x_test)])"
   ]
  },
  {
   "cell_type": "code",
   "execution_count": null,
   "metadata": {},
   "outputs": [],
   "source": [
    "x_train_male = x_train[y_train == 0]\n",
    "x_train_female = x_train[y_train == 1]\n",
    "plt.scatter(x_train_male[:,2], x_train_male[:,4], color='red', s=4)\n",
    "plt.scatter(x_train_female[:,2], x_train_female[:,4], color='blue', s=4)\n",
    "plt.title('Linearly separable data')\n",
    "plt.xlabel('feature 1')\n",
    "plt.ylabel('feature 2')\n",
    "plt.show()"
   ]
  }
 ],
 "metadata": {
  "interpreter": {
   "hash": "4f1daba52a977a9ca261d4e047034e1359a47d2ceb499fa4b8c2080bb02e3bd2"
  },
  "kernelspec": {
   "display_name": "Python 3.8.8 ('base')",
   "language": "python",
   "name": "python3"
  },
  "language_info": {
   "codemirror_mode": {
    "name": "ipython",
    "version": 3
   },
   "file_extension": ".py",
   "mimetype": "text/x-python",
   "name": "python",
   "nbconvert_exporter": "python",
   "pygments_lexer": "ipython3",
   "version": "3.8.8"
  },
  "orig_nbformat": 4
 },
 "nbformat": 4,
 "nbformat_minor": 2
}
