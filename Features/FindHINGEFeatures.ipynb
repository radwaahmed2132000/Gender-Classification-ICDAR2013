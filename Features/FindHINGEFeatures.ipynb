{
 "cells": [
  {
   "cell_type": "code",
   "execution_count": 1,
   "metadata": {},
   "outputs": [],
   "source": [
    "import numpy as np\n",
    "import matplotlib.pyplot as plt\n",
    "import os\n",
    "import pandas as pd\n",
    "from skimage import io\n",
    "from sklearn import svm\n",
    "from sklearn.metrics import accuracy_score\n",
    "import cv2\n",
    "from skimage.feature import greycomatrix, greycoprops\n",
    "from sklearn.ensemble import RandomForestClassifier"
   ]
  },
  {
   "cell_type": "code",
   "execution_count": 2,
   "metadata": {},
   "outputs": [
    {
     "data": {
      "text/plain": [
       "{'divide': 'warn', 'over': 'warn', 'under': 'ignore', 'invalid': 'warn'}"
      ]
     },
     "execution_count": 2,
     "metadata": {},
     "output_type": "execute_result"
    }
   ],
   "source": [
    "N_ANGLE_BINS = 40\n",
    "BIN_SIZE = 360 // N_ANGLE_BINS\n",
    "LEG_LENGTH = 25\n",
    "np.seterr(divide = 'ignore')"
   ]
  },
  {
   "cell_type": "code",
   "execution_count": null,
   "metadata": {},
   "outputs": [],
   "source": [
    "%run ../Preprocessing/Read_Data.ipynb"
   ]
  },
  {
   "cell_type": "code",
   "execution_count": 3,
   "metadata": {},
   "outputs": [],
   "source": [
    "def get_hinge_feature(image):\n",
    "\timage = cv2.medianBlur(image, 3)\n",
    "\tbw_image = cv2.threshold(image, 128, 255, cv2.THRESH_BINARY | cv2.THRESH_OTSU)[1]\n",
    "\n",
    "\tcontours, _= cv2.findContours(\n",
    "\t\t\t\tbw_image, cv2.RETR_TREE, \n",
    "\t\t\t\tcv2.CHAIN_APPROX_NONE\n",
    "\t\t\t\t)\n",
    "\tcontours = sorted(contours, key=cv2.contourArea, reverse=True)[1:]\n",
    "\t\n",
    "\thist = np.zeros((N_ANGLE_BINS, N_ANGLE_BINS))\n",
    "\tfor cnt in contours:\n",
    "\t\tn_pixels = len(cnt)\n",
    "\t\tif n_pixels <= LEG_LENGTH:\n",
    "\t\t\tcontinue\n",
    "\t\t\n",
    "\t\tpoints = np.array([point[0] for point in cnt])\n",
    "\t\txs, ys = points[:, 0], points[:, 1]\n",
    "\t\tpoint_1s = np.array([cnt[(i + LEG_LENGTH) % n_pixels][0] for i in range(n_pixels)])\n",
    "\t\tpoint_2s = np.array([cnt[(i - LEG_LENGTH) % n_pixels][0] for i in range(n_pixels)])\n",
    "\t\tx1s, y1s = point_1s[:, 0], point_1s[:, 1]\n",
    "\t\tx2s, y2s = point_2s[:, 0], point_2s[:, 1]\n",
    "\t\t\n",
    "\t\tphi_1s = np.degrees(np.arctan2(y1s - ys, x1s - xs) + np.pi)\n",
    "\t\tphi_2s = np.degrees(np.arctan2(y2s - ys, x2s - xs) + np.pi)\n",
    "\t\t\n",
    "\t\tindices = np.where(phi_2s > phi_1s)[0]\n",
    "\t\t\n",
    "\t\tfor i in indices:\n",
    "\t\t\tphi1 = int(phi_1s[i] // BIN_SIZE) % N_ANGLE_BINS\n",
    "\t\t\tphi2 = int(phi_2s[i] // BIN_SIZE) % N_ANGLE_BINS\n",
    "\t\t\thist[phi1, phi2] += 1\n",
    "\t\t\t\n",
    "\tnormalised_hist = hist / np.sum(hist)\n",
    "\tfeature_vector = normalised_hist[np.triu_indices_from(normalised_hist, k = 1)]\n",
    "\t\n",
    "\treturn feature_vector\n"
   ]
  },
  {
   "cell_type": "code",
   "execution_count": null,
   "metadata": {},
   "outputs": [],
   "source": [
    "x_train = np.array([get_hinge_feature((img)) for img in tqdm(x_train)])\n",
    "x_test = np.array([get_hinge_feature((img)) for img in tqdm(x_test)])"
   ]
  }
 ],
 "metadata": {
  "interpreter": {
   "hash": "4f1daba52a977a9ca261d4e047034e1359a47d2ceb499fa4b8c2080bb02e3bd2"
  },
  "kernelspec": {
   "display_name": "Python 3.8.8 ('base')",
   "language": "python",
   "name": "python3"
  },
  "language_info": {
   "codemirror_mode": {
    "name": "ipython",
    "version": 3
   },
   "file_extension": ".py",
   "mimetype": "text/x-python",
   "name": "python",
   "nbconvert_exporter": "python",
   "pygments_lexer": "ipython3",
   "version": "3.8.8"
  },
  "orig_nbformat": 4
 },
 "nbformat": 4,
 "nbformat_minor": 2
}
