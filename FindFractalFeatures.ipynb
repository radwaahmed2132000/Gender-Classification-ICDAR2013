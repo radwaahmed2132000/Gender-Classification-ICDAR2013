{
 "cells": [
  {
   "cell_type": "code",
   "execution_count": 9,
   "metadata": {},
   "outputs": [],
   "source": [
    "# Imports\n",
    "import cv2\n",
    "import numpy as np\n",
    "import matplotlib.pyplot as plt\n",
    "import glob\n",
    "from sklearn import svm\n",
    "from skimage.feature import greycomatrix, greycoprops\n",
    "from sklearn import metrics\n",
    "import seaborn as sns\n",
    "import pandas as pd\n",
    "from tqdm.notebook import tqdm\n"
   ]
  },
  {
   "cell_type": "markdown",
   "metadata": {},
   "source": [
    "## Read Data"
   ]
  },
  {
   "cell_type": "code",
   "execution_count": 10,
   "metadata": {},
   "outputs": [
    {
     "name": "stdout",
     "output_type": "stream",
     "text": [
      "886\n"
     ]
    }
   ],
   "source": [
    "%run Read_Data.ipynb"
   ]
  },
  {
   "cell_type": "markdown",
   "metadata": {},
   "source": [
    "## Extract Features"
   ]
  },
  {
   "cell_type": "code",
   "execution_count": 11,
   "metadata": {},
   "outputs": [],
   "source": [
    "# -----------------------------------------------------------------------------\n",
    "# From https://gist.github.com/viveksck/1110dfca01e4ec2c608515f0d5a5b1d1\n",
    "# Applies https://en.wikipedia.org/wiki/Minkowski–Bouligand_dimension:\n",
    "# -----------------------------------------------------------------------------\n",
    "\n",
    "def TTBD(img, t1, t2):                      # Two Threshold Binary Deomposition\n",
    "    img = (t1 <= img) & (t2 >= img)\n",
    "    return img\n",
    "\n",
    "\n",
    "def get_fractal_dimension(img):                                 # Takes a binary image and returns its fractal dimension.\n",
    "\n",
    "    # Slice image at multiples of k and add  pixels in each\n",
    "    def boxcount(img, k):\n",
    "        vertical_slices = np.add.reduceat(img, np.arange(0, img.shape[0], k), axis=0)\n",
    "        boxCounts = np.add.reduceat( vertical_slices, np.arange(0, img.shape[1], k), axis=1)    # horizontal slice\n",
    "        return len(np.where((boxCounts > 0) & (boxCounts < k*k))[0])        # How many boxes are not empty and not full (partial boxes)\n",
    "\n",
    "    # Smaller dimension of image\n",
    "    p = min(img.shape)\n",
    "\n",
    "    # Largest n for which 2^n <= p\n",
    "    n = int(np.floor(np.log2(p)))\n",
    "   \n",
    "    # Build successive box sizes (from 2**n down to 2**1)\n",
    "    box_sizes = 2**np.arange(n, 1, -1)\n",
    "\n",
    "    # Actual box counting with decreasing size\n",
    "    partial_box_counts = [boxcount(img, box_size) for box_size in box_sizes]\n",
    "\n",
    "    # Approximate the relation between log(box_sizes) and log(partial_box_counts) \n",
    "    # Then return the fractal dimension as the log partial box counts for very small box_sizes (np.log(box_sizes)=0), box_sizes=1\n",
    "    coeffs = np.polyfit(np.log(box_sizes), np.log(partial_box_counts), 1)\n",
    "    return -coeffs[0] if coeffs[0]==coeffs[0] else 0.0\n",
    "\n",
    "\n",
    "def fractal_test():\n",
    "    img = cv2.imread(\"./Misc/sierpinski.png\", 0)\n",
    "    t = np.mean(img.flatten(), axis=0)\n",
    "    img = img < t\n",
    "\n",
    "    print(\"Minkowski–Bouligand dimension (computed): \", get_fractal_dimension(img))\n",
    "    print(\"Haussdorf dimension (theoretical):        \", (np.log(3)/np.log(2)))\n",
    "\n",
    "\n",
    "def SFTA(img):                         #Segmentation-based Fractal Analysis as in the paper: takes img and threshold array.\n",
    "    silhouettes = []\n",
    "    opt_t,_ = cv2.threshold(img,0,255,cv2.THRESH_BINARY+cv2.THRESH_OTSU)\n",
    "    T = [ opt_t ]\n",
    "    T.append(np.amax(img))\n",
    "    for t1, t2 in zip(T, T[1:]):         # Apply two-threshold binary decomposition on the image using each two consequtive thresholds.\n",
    "        silhouettes.append(TTBD(img, t1, t2))\n",
    "\n",
    "    if len(T) > 2:\n",
    "        T.pop()\n",
    "        for t in T:                         # Apply two-threshold binary decomposition on the image using each threshold and the max value\n",
    "            silhouettes.append(TTBD(img, t, np.amax(img)))\n",
    "\n",
    "    fractal_vector = [ get_fractal_dimension(sil) for sil in silhouettes ]      # 2*len(T) Binary Images => Fractal Dimension for each.\n",
    "    mean_vector = [np.mean(sil) for sil in silhouettes]                         # Get mean of each as well\n",
    "    \n",
    "    return fractal_vector + mean_vector\n",
    "\n",
    "#fractal_test()\n"
   ]
  },
  {
   "cell_type": "code",
   "execution_count": 13,
   "metadata": {},
   "outputs": [
    {
     "name": "stdout",
     "output_type": "stream",
     "text": [
      " At 0.9988713318284425546"
     ]
    }
   ],
   "source": [
    "# converting the dataset into features (x1, x2)\n",
    "def apply_features(x_train, x_test, saved=False):\n",
    "   if saved:\n",
    "      with open('./Feature-Datasets/fractal.npy', 'rb') as f:\n",
    "         x_tr = np.load(f, allow_pickle=True)\n",
    "         x_ts = np.load(f, allow_pickle=True)\n",
    "   else:\n",
    "      x_tr, x_ts = [], []\n",
    "      for i, img in enumerate(x_train):\n",
    "         x_tr.append(SFTA(img))\n",
    "         print(f\"\\r At {i/len(x_train)}\", end=\"\")\n",
    "      for i, img in enumerate(x_test):\n",
    "         x_ts.append(SFTA(img))\n",
    "      with open('./Feature-Datasets/fractal.npy', 'wb') as f:\n",
    "         np.save(f, x_tr, allow_pickle=True)\n",
    "         np.save(f, x_ts, allow_pickle=True)\n",
    "   return np.array(x_tr), np.array(x_ts)\n",
    "\n",
    "x_train, x_test = apply_features(x_train, x_test, saved=False)\n"
   ]
  },
  {
   "cell_type": "code",
   "execution_count": 18,
   "metadata": {},
   "outputs": [
    {
     "data": {
      "image/png": "[encoded data removed]",
      "text/plain": [
       "<Figure size 432x288 with 1 Axes>"
      ]
     },
     "metadata": {
      "needs_background": "light"
     },
     "output_type": "display_data"
    }
   ],
   "source": [
    "# Generate scatter plot for training data \n",
    "x_train_male = x_train[y_train==0]\n",
    "x_train_female = x_train[y_train==1]\n",
    "#print(x_train.shape)\n",
    "plot = True\n",
    "if plot:\n",
    "   x1m = x_train_male[:,0]\n",
    "   x2m = x_train_male[:,1]\n",
    "   x1f = x_train_female[:,0]\n",
    "   x2f = x_train_female[:,1]\n",
    "\n",
    "   plt.scatter(x1m, x2m, color='red', s=4)\n",
    "   #plt.show()\n",
    "   plt.scatter(x1f, x2f, color='blue', s=4)\n",
    "   plt.title('Feature Space')\n",
    "   plt.xlabel('feature 1')\n",
    "   plt.ylabel('feature 2')\n",
    "   plt.show()\n"
   ]
  },
  {
   "cell_type": "code",
   "execution_count": 19,
   "metadata": {},
   "outputs": [
    {
     "name": "stderr",
     "output_type": "stream",
     "text": [
      "/var/folders/nq/f_nplzp52qx_hrrhyg44xf4c0000gn/T/ipykernel_18676/2694488313.py:14: DeprecationWarning: `np.bool` is a deprecated alias for the builtin `bool`. To silence this warning, use `bool` by itself. Doing this will not modify any behavior and is safe. If you specifically wanted the numpy scalar type, use `np.bool_` here.\n",
      "Deprecated in NumPy 1.20; for more details and guidance: https://numpy.org/devdocs/release/1.20.0-notes.html#deprecations\n",
      "  upper = corr_matrix.where(np.triu(np.ones(corr_matrix.shape), k=1).astype(np.bool))\n"
     ]
    },
    {
     "data": {
      "image/png": "[encoded data removed]",
      "text/plain": [
       "<Figure size 864x432 with 2 Axes>"
      ]
     },
     "metadata": {
      "needs_background": "light"
     },
     "output_type": "display_data"
    },
    {
     "data": {
      "image/png": "[encoded data removed]",
      "text/plain": [
       "<Figure size 864x432 with 2 Axes>"
      ]
     },
     "metadata": {
      "needs_background": "light"
     },
     "output_type": "display_data"
    }
   ],
   "source": [
    "\n",
    "def heat_map(x_pd):\n",
    "   f, ax = plt.subplots(figsize=(12, 6))\n",
    "   corr = x_pd.corr()\n",
    "   hm = sns.heatmap(round(corr,2), annot=True, ax=ax, cmap=\"coolwarm\",fmt='.2f',\n",
    "                  linewidths=.05)\n",
    "   f.subplots_adjust(top=0.93)\n",
    "   t= f.suptitle('Fractal Attributes Correlation Heatmap', fontsize=14)\n",
    "\n",
    "\n",
    "def corr_kill(x1_pd, x2_pd=[]):\n",
    "   corr_matrix = x1_pd.corr().abs()\n",
    "\n",
    "   # Select upper triangle of correlation matrix\n",
    "   upper = corr_matrix.where(np.triu(np.ones(corr_matrix.shape), k=1).astype(np.bool))\n",
    "\n",
    "   # Find features with correlation greater than 0.95\n",
    "   to_drop = [column for column in upper.columns if any(upper[column] > 0.95)]\n",
    "\n",
    "   # Drop features \n",
    "   x1_pd.drop(to_drop, axis=1, inplace=True)\n",
    "   if len(x2_pd):\n",
    "      x2_pd.drop(to_drop, axis=1, inplace=True)\n",
    "\n",
    "   return x1_pd, x2_pd\n",
    "\n",
    "action = True\n",
    "if action:\n",
    "   x_train_pd = pd.DataFrame(x_train[:,0:8])\n",
    "\n",
    "   heat_map(x_train_pd)\n",
    "\n",
    "   x_train_pd, x_test_pd = corr_kill(x_train_pd, pd.DataFrame(x_test[:,0:8]))\n",
    "\n",
    "   heat_map(x_train_pd)\n",
    "\n",
    "   x_train_filtered = x_train_pd.to_numpy()\n",
    "   x_test_filtered = x_test_pd.to_numpy()\n"
   ]
  }
 ],
 "metadata": {
  "interpreter": {
   "hash": "40d3a090f54c6569ab1632332b64b2c03c39dcf918b08424e98f38b5ae0af88f"
  },
  "kernelspec": {
   "display_name": "Python 3.8.8 ('base')",
   "language": "python",
   "name": "python3"
  },
  "language_info": {
   "codemirror_mode": {
    "name": "ipython",
    "version": 3
   },
   "file_extension": ".py",
   "mimetype": "text/x-python",
   "name": "python",
   "nbconvert_exporter": "python",
   "pygments_lexer": "ipython3",
   "version": "3.8.8"
  },
  "orig_nbformat": 4
 },
 "nbformat": 4,
 "nbformat_minor": 2
}
