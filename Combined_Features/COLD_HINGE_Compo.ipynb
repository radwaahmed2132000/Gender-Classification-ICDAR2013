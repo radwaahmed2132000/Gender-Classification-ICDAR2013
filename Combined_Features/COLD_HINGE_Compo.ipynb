{
 "cells": [
  {
   "cell_type": "code",
   "execution_count": null,
   "metadata": {},
   "outputs": [],
   "source": [
    "import numpy as np"
   ]
  },
  {
   "cell_type": "code",
   "execution_count": null,
   "metadata": {},
   "outputs": [],
   "source": [
    "seed=np.random.randint(0,100)"
   ]
  },
  {
   "cell_type": "markdown",
   "metadata": {},
   "source": [
    "## Start Combining"
   ]
  },
  {
   "cell_type": "code",
   "execution_count": null,
   "metadata": {},
   "outputs": [],
   "source": [
    "np.random.seed(seed)\n",
    "%run ../Features/FindCOLDFeatures.ipynb"
   ]
  },
  {
   "cell_type": "code",
   "execution_count": null,
   "metadata": {},
   "outputs": [],
   "source": [
    "x_train_compo = x_train\n",
    "x_test_compo = x_test\n",
    "y_train_compo = y_train\n",
    "y_test_compo = y_test"
   ]
  },
  {
   "cell_type": "code",
   "execution_count": null,
   "metadata": {},
   "outputs": [],
   "source": [
    "np.random.seed(seed)\n",
    "%run ../Features/FindHINGEFeatures.ipynb"
   ]
  },
  {
   "cell_type": "code",
   "execution_count": null,
   "metadata": {},
   "outputs": [],
   "source": [
    "if np.all((y_train_compo == y_train) == True) and np.all((y_test_compo == y_test) == True):\n",
    "\tx_train_compo = np.concatenate((x_train_compo, x_train), axis=1)\n",
    "\tx_test_compo = np.concatenate((x_test_compo, x_test), axis=1)\n",
    "else:\n",
    "\tprint(\"Error: y_train and y_test are not the same\")"
   ]
  },
  {
   "cell_type": "markdown",
   "metadata": {},
   "source": [
    "## Canonical naming"
   ]
  },
  {
   "cell_type": "code",
   "execution_count": null,
   "metadata": {},
   "outputs": [],
   "source": [
    "x_train = x_train_compo\n",
    "x_test = x_test_compo"
   ]
  }
 ],
 "metadata": {
  "interpreter": {
   "hash": "4f1daba52a977a9ca261d4e047034e1359a47d2ceb499fa4b8c2080bb02e3bd2"
  },
  "kernelspec": {
   "display_name": "Python 3.8.8 ('base')",
   "language": "python",
   "name": "python3"
  },
  "language_info": {
   "codemirror_mode": {
    "name": "ipython",
    "version": 3
   },
   "file_extension": ".py",
   "mimetype": "text/x-python",
   "name": "python",
   "nbconvert_exporter": "python",
   "pygments_lexer": "ipython3",
   "version": "3.8.8"
  },
  "orig_nbformat": 4
 },
 "nbformat": 4,
 "nbformat_minor": 2
}
