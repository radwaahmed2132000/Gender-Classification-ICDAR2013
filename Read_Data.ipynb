{
 "cells": [
  {
   "cell_type": "code",
   "execution_count": 11,
   "metadata": {},
   "outputs": [],
   "source": [
    "# Imports\n",
    "import cv2\n",
    "import numpy as np\n",
    "import matplotlib.pyplot as plt\n",
    "import glob\n",
    "from sklearn import svm\n",
    "from skimage.feature import greycomatrix, greycoprops\n",
    "from sklearn import metrics\n",
    "from tqdm import tqdm"
   ]
  },
  {
   "cell_type": "markdown",
   "metadata": {},
   "source": [
    "## Read Data"
   ]
  },
  {
   "cell_type": "code",
   "execution_count": 13,
   "metadata": {},
   "outputs": [
    {
     "name": "stdout",
     "output_type": "stream",
     "text": [
      "886\n"
     ]
    }
   ],
   "source": [
    "def Read_Dataset(saved=False):\n",
    "    if saved:\n",
    "        with open('./Datasets/CMP23-Dataset/data.npy', 'rb') as f:\n",
    "            x_data = np.load(f, allow_pickle=True)\n",
    "            y_data = np.load(f, allow_pickle=True)\n",
    "          \n",
    "\n",
    "    else:\n",
    "        x_data, y_data = [], []\n",
    "        #load male images\n",
    "        for filename in tqdm(sorted(glob.glob('./Datasets/CMP23-Dataset/Male/*.jpg'))):\n",
    "            try:\n",
    "                img = cv2.imread(filename, 0)                           # 0 for gray-scale\n",
    "                x_data.append(img)\n",
    "                y_data.append(0)\n",
    "            except:\n",
    "                print(\"corrupted image detected.\")\n",
    "            \n",
    "\n",
    "        ## load female images\n",
    "        for filename in tqdm(sorted(glob.glob('./Datasets/CMP23-Dataset/Female/*.jpg'))):\n",
    "            try:\n",
    "                img = cv2.imread(filename, 0)\n",
    "                x_data.append(img)\n",
    "                y_data.append(1)\n",
    "            except:\n",
    "                print(\"corrupted image detected.\")\n",
    "            \n",
    "\n",
    "        x_data = np.array(x_data)\n",
    "        y_data = np.array(y_data)\n",
    "        with open('./Datasets/CMP23-Dataset/data.npy', 'wb') as f:\n",
    "            np.save(f, x_data, allow_pickle=True)\n",
    "            np.save(f, y_data, allow_pickle=True)\n",
    "          \n",
    "\n",
    "    # Shuffle both\n",
    "    p = np.random.permutation(len(x_data))\n",
    "    x_data = x_data[p]\n",
    "    y_data = y_data[p]\n",
    "\n",
    "    train_size = int(0.8 * len(x_data))\n",
    "    print(train_size)\n",
    "    x_train, y_train = x_data[:train_size], y_data[:train_size]\n",
    "    x_test, y_test = x_data[train_size:], y_data[train_size:]\n",
    "\n",
    "        \n",
    "    return x_train, y_train, x_test, y_test\n",
    "\n",
    "x_train, y_train, x_test, y_test = Read_Dataset(saved=True)\n"
   ]
  }
 ],
 "metadata": {
  "interpreter": {
   "hash": "40d3a090f54c6569ab1632332b64b2c03c39dcf918b08424e98f38b5ae0af88f"
  },
  "kernelspec": {
   "display_name": "Python 3.8.8 ('base')",
   "language": "python",
   "name": "python3"
  },
  "language_info": {
   "codemirror_mode": {
    "name": "ipython",
    "version": 3
   },
   "file_extension": ".py",
   "mimetype": "text/x-python",
   "name": "python",
   "nbconvert_exporter": "python",
   "pygments_lexer": "ipython3",
   "version": "3.8.8"
  },
  "orig_nbformat": 4
 },
 "nbformat": 4,
 "nbformat_minor": 2
}
